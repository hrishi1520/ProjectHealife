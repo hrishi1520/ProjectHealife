{
  "nbformat": 4,
  "nbformat_minor": 0,
  "metadata": {
    "colab": {
      "name": "Final year project",
      "provenance": [],
      "collapsed_sections": [
        "bOYXOJSRgj8Y",
        "vlhjzuUigwuS"
      ]
    },
    "kernelspec": {
      "name": "python3",
      "display_name": "Python 3"
    },
    "language_info": {
      "name": "python"
    }
  },
  "cells": [
    {
      "cell_type": "code",
      "metadata": {
        "id": "WeaAd2neepgP"
      },
      "source": [
        "import sklearn"
      ],
      "execution_count": null,
      "outputs": []
    },
    {
      "cell_type": "markdown",
      "metadata": {
        "id": "bOYXOJSRgj8Y"
      },
      "source": [
        "# **Data preparation and EDA**"
      ]
    },
    {
      "cell_type": "code",
      "metadata": {
        "id": "DgYDRVqS8M2J"
      },
      "source": [
        "import pandas as pd"
      ],
      "execution_count": null,
      "outputs": []
    },
    {
      "cell_type": "code",
      "metadata": {
        "id": "G6oll_FwMwQM"
      },
      "source": [
        "import numpy as np"
      ],
      "execution_count": null,
      "outputs": []
    },
    {
      "cell_type": "code",
      "metadata": {
        "id": "A9Tm-oWISDwu"
      },
      "source": [
        "import numpy as np\n",
        "%matplotlib inline"
      ],
      "execution_count": null,
      "outputs": []
    },
    {
      "cell_type": "code",
      "metadata": {
        "id": "j-Q2BfDUSNtV"
      },
      "source": [
        "import numpy as np\n",
        "%matplotlib inline\n",
        "from pandas.plotting import scatter_matrix"
      ],
      "execution_count": null,
      "outputs": []
    },
    {
      "cell_type": "code",
      "metadata": {
        "id": "dY6TQ642pADH"
      },
      "source": [
        "import numpy as np\n",
        "%matplotlib inline\n",
        "from pandas.plotting import scatter_matrix\n",
        "from numpy import where\n",
        "from sklearn.datasets import make_classification\n",
        "from matplotlib import pyplot"
      ],
      "execution_count": null,
      "outputs": []
    },
    {
      "cell_type": "code",
      "metadata": {
        "id": "5_djbavtEOTa"
      },
      "source": [
        "import matplotlib.pyplot as plt"
      ],
      "execution_count": null,
      "outputs": []
    },
    {
      "cell_type": "code",
      "metadata": {
        "id": "W9T9dlURpKmQ",
        "colab": {
          "base_uri": "https://localhost:8080/",
          "height": 265
        },
        "outputId": "072b060a-1468-403f-bcc0-0be218548260"
      },
      "source": [
        "X, y = make_classification(n_samples=1000, n_features=2, n_informative=2, n_redundant=0, n_clusters_per_class=1, random_state=4)\n",
        "# create scatter plot for samples from each class\n",
        "for class_value in range(2):\n",
        "\t# get row indexes for samples with this class\n",
        "\trow_ix = where(y == class_value)\n",
        "\t# create scatter of these samples\n",
        "\tpyplot.scatter(X[row_ix, 0], X[row_ix, 1])\n",
        "# show the plot\n",
        "pyplot.show()"
      ],
      "execution_count": null,
      "outputs": [
        {
          "output_type": "display_data",
          "data": {
            "image/png": "[encoded data removed]",
            "text/plain": [
              "<Figure size 432x288 with 1 Axes>"
            ]
          },
          "metadata": {
            "tags": [],
            "needs_background": "light"
          }
        }
      ]
    },
    {
      "cell_type": "code",
      "metadata": {
        "id": "9cLECX7tpNjE"
      },
      "source": [
        "data = pd.read_csv(\"/content/drive/MyDrive/weight-height.csv\")"
      ],
      "execution_count": null,
      "outputs": []
    },
    {
      "cell_type": "code",
      "metadata": {
        "colab": {
          "base_uri": "https://localhost:8080/",
          "height": 195
        },
        "id": "euw6mpZ08RzP",
        "outputId": "c0bbe273-5292-4b18-d9ea-84f357af4a2a"
      },
      "source": [
        "data.head()"
      ],
      "execution_count": null,
      "outputs": [
        {
          "output_type": "execute_result",
          "data": {
            "text/html": [
              "<div>\n",
              "<style scoped>\n",
              "    .dataframe tbody tr th:only-of-type {\n",
              "        vertical-align: middle;\n",
              "    }\n",
              "\n",
              "    .dataframe tbody tr th {\n",
              "        vertical-align: top;\n",
              "    }\n",
              "\n",
              "    .dataframe thead th {\n",
              "        text-align: right;\n",
              "    }\n",
              "</style>\n",
              "<table border=\"1\" class=\"dataframe\">\n",
              "  <thead>\n",
              "    <tr style=\"text-align: right;\">\n",
              "      <th></th>\n",
              "      <th>Gender</th>\n",
              "      <th>Height</th>\n",
              "      <th>Weight</th>\n",
              "    </tr>\n",
              "  </thead>\n",
              "  <tbody>\n",
              "    <tr>\n",
              "      <th>0</th>\n",
              "      <td>Male</td>\n",
              "      <td>73.847017</td>\n",
              "      <td>241.893563</td>\n",
              "    </tr>\n",
              "    <tr>\n",
              "      <th>1</th>\n",
              "      <td>Male</td>\n",
              "      <td>68.781904</td>\n",
              "      <td>162.310473</td>\n",
              "    </tr>\n",
              "    <tr>\n",
              "      <th>2</th>\n",
              "      <td>Male</td>\n",
              "      <td>74.110105</td>\n",
              "      <td>212.740856</td>\n",
              "    </tr>\n",
              "    <tr>\n",
              "      <th>3</th>\n",
              "      <td>Male</td>\n",
              "      <td>71.730978</td>\n",
              "      <td>220.042470</td>\n",
              "    </tr>\n",
              "    <tr>\n",
              "      <th>4</th>\n",
              "      <td>Male</td>\n",
              "      <td>69.881796</td>\n",
              "      <td>206.349801</td>\n",
              "    </tr>\n",
              "  </tbody>\n",
              "</table>\n",
              "</div>"
            ],
            "text/plain": [
              "  Gender     Height      Weight\n",
              "0   Male  73.847017  241.893563\n",
              "1   Male  68.781904  162.310473\n",
              "2   Male  74.110105  212.740856\n",
              "3   Male  71.730978  220.042470\n",
              "4   Male  69.881796  206.349801"
            ]
          },
          "metadata": {
            "tags": []
          },
          "execution_count": 6
        }
      ]
    },
    {
      "cell_type": "markdown",
      "metadata": {
        "id": "LHSKu1u9VAXN"
      },
      "source": [
        "Height: Inches\n",
        "weight: Pounds"
      ]
    },
    {
      "cell_type": "code",
      "metadata": {
        "colab": {
          "base_uri": "https://localhost:8080/"
        },
        "id": "x9HAmBdH8W_P",
        "outputId": "034f9a6e-93c0-4a66-b3a7-97dcc194b48c"
      },
      "source": [
        "data.dtypes"
      ],
      "execution_count": null,
      "outputs": [
        {
          "output_type": "execute_result",
          "data": {
            "text/plain": [
              "Gender     object\n",
              "Height    float64\n",
              "Weight    float64\n",
              "dtype: object"
            ]
          },
          "metadata": {
            "tags": []
          },
          "execution_count": 52
        }
      ]
    },
    {
      "cell_type": "code",
      "metadata": {
        "colab": {
          "base_uri": "https://localhost:8080/"
        },
        "id": "ZfBsWzbof4yb",
        "outputId": "494afd63-9e76-4693-99dc-59a8c30c90a1"
      },
      "source": [
        "for i in range(10000):\n",
        "  if data[\"Gender\"][i] == \"Male\" :\n",
        "    data[\"Gender\"][i] = 0\n",
        "  \n",
        "  if data[\"Gender\"][i] == \"Female\" :\n",
        "    data[\"Gender\"][i] = 1"
      ],
      "execution_count": null,
      "outputs": [
        {
          "output_type": "stream",
          "text": [
            "/usr/local/lib/python3.7/dist-packages/ipykernel_launcher.py:3: SettingWithCopyWarning: \n",
            "A value is trying to be set on a copy of a slice from a DataFrame\n",
            "\n",
            "See the caveats in the documentation: https://pandas.pydata.org/pandas-docs/stable/user_guide/indexing.html#returning-a-view-versus-a-copy\n",
            "  This is separate from the ipykernel package so we can avoid doing imports until\n",
            "/usr/local/lib/python3.7/dist-packages/ipykernel_launcher.py:6: SettingWithCopyWarning: \n",
            "A value is trying to be set on a copy of a slice from a DataFrame\n",
            "\n",
            "See the caveats in the documentation: https://pandas.pydata.org/pandas-docs/stable/user_guide/indexing.html#returning-a-view-versus-a-copy\n",
            "  \n"
          ],
          "name": "stderr"
        }
      ]
    },
    {
      "cell_type": "code",
      "metadata": {
        "colab": {
          "base_uri": "https://localhost:8080/",
          "height": 195
        },
        "id": "fzreaegXf44T",
        "outputId": "5f9ef76b-476b-4414-db7e-ffae69842bf5"
      },
      "source": [
        "data.head()"
      ],
      "execution_count": null,
      "outputs": [
        {
          "output_type": "execute_result",
          "data": {
            "text/html": [
              "<div>\n",
              "<style scoped>\n",
              "    .dataframe tbody tr th:only-of-type {\n",
              "        vertical-align: middle;\n",
              "    }\n",
              "\n",
              "    .dataframe tbody tr th {\n",
              "        vertical-align: top;\n",
              "    }\n",
              "\n",
              "    .dataframe thead th {\n",
              "        text-align: right;\n",
              "    }\n",
              "</style>\n",
              "<table border=\"1\" class=\"dataframe\">\n",
              "  <thead>\n",
              "    <tr style=\"text-align: right;\">\n",
              "      <th></th>\n",
              "      <th>Gender</th>\n",
              "      <th>Height</th>\n",
              "      <th>Weight</th>\n",
              "    </tr>\n",
              "  </thead>\n",
              "  <tbody>\n",
              "    <tr>\n",
              "      <th>0</th>\n",
              "      <td>0</td>\n",
              "      <td>73.847017</td>\n",
              "      <td>241.893563</td>\n",
              "    </tr>\n",
              "    <tr>\n",
              "      <th>1</th>\n",
              "      <td>0</td>\n",
              "      <td>68.781904</td>\n",
              "      <td>162.310473</td>\n",
              "    </tr>\n",
              "    <tr>\n",
              "      <th>2</th>\n",
              "      <td>0</td>\n",
              "      <td>74.110105</td>\n",
              "      <td>212.740856</td>\n",
              "    </tr>\n",
              "    <tr>\n",
              "      <th>3</th>\n",
              "      <td>0</td>\n",
              "      <td>71.730978</td>\n",
              "      <td>220.042470</td>\n",
              "    </tr>\n",
              "    <tr>\n",
              "      <th>4</th>\n",
              "      <td>0</td>\n",
              "      <td>69.881796</td>\n",
              "      <td>206.349801</td>\n",
              "    </tr>\n",
              "  </tbody>\n",
              "</table>\n",
              "</div>"
            ],
            "text/plain": [
              "  Gender     Height      Weight\n",
              "0      0  73.847017  241.893563\n",
              "1      0  68.781904  162.310473\n",
              "2      0  74.110105  212.740856\n",
              "3      0  71.730978  220.042470\n",
              "4      0  69.881796  206.349801"
            ]
          },
          "metadata": {
            "tags": []
          },
          "execution_count": 8
        }
      ]
    },
    {
      "cell_type": "code",
      "metadata": {
        "colab": {
          "base_uri": "https://localhost:8080/"
        },
        "id": "J2dvnKMh-wcO",
        "outputId": "e9630981-e9f1-4244-9a14-8393b413f530"
      },
      "source": [
        "data.info"
      ],
      "execution_count": null,
      "outputs": [
        {
          "output_type": "execute_result",
          "data": {
            "text/plain": [
              "<bound method DataFrame.info of      Gender     Height      Weight\n",
              "0         0  73.847017  241.893563\n",
              "1         0  68.781904  162.310473\n",
              "2         0  74.110105  212.740856\n",
              "3         0  71.730978  220.042470\n",
              "4         0  69.881796  206.349801\n",
              "...     ...        ...         ...\n",
              "9995      1  66.172652  136.777454\n",
              "9996      1  67.067155  170.867906\n",
              "9997      1  63.867992  128.475319\n",
              "9998      1  69.034243  163.852461\n",
              "9999      1  61.944246  113.649103\n",
              "\n",
              "[10000 rows x 3 columns]>"
            ]
          },
          "metadata": {
            "tags": []
          },
          "execution_count": 55
        }
      ]
    },
    {
      "cell_type": "code",
      "metadata": {
        "colab": {
          "base_uri": "https://localhost:8080/",
          "height": 284
        },
        "id": "HGxJGlTG_YCF",
        "outputId": "6fefe802-95ae-4327-b717-44b23788bcab"
      },
      "source": [
        "data.describe()"
      ],
      "execution_count": null,
      "outputs": [
        {
          "output_type": "execute_result",
          "data": {
            "text/html": [
              "<div>\n",
              "<style scoped>\n",
              "    .dataframe tbody tr th:only-of-type {\n",
              "        vertical-align: middle;\n",
              "    }\n",
              "\n",
              "    .dataframe tbody tr th {\n",
              "        vertical-align: top;\n",
              "    }\n",
              "\n",
              "    .dataframe thead th {\n",
              "        text-align: right;\n",
              "    }\n",
              "</style>\n",
              "<table border=\"1\" class=\"dataframe\">\n",
              "  <thead>\n",
              "    <tr style=\"text-align: right;\">\n",
              "      <th></th>\n",
              "      <th>Height</th>\n",
              "      <th>Weight</th>\n",
              "    </tr>\n",
              "  </thead>\n",
              "  <tbody>\n",
              "    <tr>\n",
              "      <th>count</th>\n",
              "      <td>10000.000000</td>\n",
              "      <td>10000.000000</td>\n",
              "    </tr>\n",
              "    <tr>\n",
              "      <th>mean</th>\n",
              "      <td>66.367560</td>\n",
              "      <td>161.440357</td>\n",
              "    </tr>\n",
              "    <tr>\n",
              "      <th>std</th>\n",
              "      <td>3.847528</td>\n",
              "      <td>32.108439</td>\n",
              "    </tr>\n",
              "    <tr>\n",
              "      <th>min</th>\n",
              "      <td>54.263133</td>\n",
              "      <td>64.700127</td>\n",
              "    </tr>\n",
              "    <tr>\n",
              "      <th>25%</th>\n",
              "      <td>63.505620</td>\n",
              "      <td>135.818051</td>\n",
              "    </tr>\n",
              "    <tr>\n",
              "      <th>50%</th>\n",
              "      <td>66.318070</td>\n",
              "      <td>161.212928</td>\n",
              "    </tr>\n",
              "    <tr>\n",
              "      <th>75%</th>\n",
              "      <td>69.174262</td>\n",
              "      <td>187.169525</td>\n",
              "    </tr>\n",
              "    <tr>\n",
              "      <th>max</th>\n",
              "      <td>78.998742</td>\n",
              "      <td>269.989699</td>\n",
              "    </tr>\n",
              "  </tbody>\n",
              "</table>\n",
              "</div>"
            ],
            "text/plain": [
              "             Height        Weight\n",
              "count  10000.000000  10000.000000\n",
              "mean      66.367560    161.440357\n",
              "std        3.847528     32.108439\n",
              "min       54.263133     64.700127\n",
              "25%       63.505620    135.818051\n",
              "50%       66.318070    161.212928\n",
              "75%       69.174262    187.169525\n",
              "max       78.998742    269.989699"
            ]
          },
          "metadata": {
            "tags": []
          },
          "execution_count": 56
        }
      ]
    },
    {
      "cell_type": "code",
      "metadata": {
        "colab": {
          "base_uri": "https://localhost:8080/",
          "height": 386
        },
        "id": "9rvnjMYW_hnM",
        "outputId": "61cc981e-9692-4b08-96b9-87514d629680"
      },
      "source": [
        "import seaborn as sns\n",
        "sns.displot(data, x=\"Gender\")"
      ],
      "execution_count": null,
      "outputs": [
        {
          "output_type": "execute_result",
          "data": {
            "text/plain": [
              "<seaborn.axisgrid.FacetGrid at 0x7f249d70fd10>"
            ]
          },
          "metadata": {
            "tags": []
          },
          "execution_count": 9
        },
        {
          "output_type": "display_data",
          "data": {
            "image/png": "[encoded data removed]",
            "text/plain": [
              "<Figure size 360x360 with 1 Axes>"
            ]
          },
          "metadata": {
            "tags": [],
            "needs_background": "light"
          }
        }
      ]
    },
    {
      "cell_type": "markdown",
      "metadata": {
        "id": "j6h9K0IWFUKW"
      },
      "source": [
        "0 = MALE\n",
        "1 = FEMALE"
      ]
    },
    {
      "cell_type": "code",
      "metadata": {
        "id": "4fIB9sIAALWf"
      },
      "source": [
        "data.to_csv('/content/drive/MyDrive/demo.csv', index=False)"
      ],
      "execution_count": null,
      "outputs": []
    },
    {
      "cell_type": "code",
      "metadata": {
        "colab": {
          "base_uri": "https://localhost:8080/",
          "height": 195
        },
        "id": "LFjCyjtgQiZX",
        "outputId": "1854218a-9731-4402-d0d2-c635f9add73c"
      },
      "source": [
        "data.head()"
      ],
      "execution_count": null,
      "outputs": [
        {
          "output_type": "execute_result",
          "data": {
            "text/html": [
              "<div>\n",
              "<style scoped>\n",
              "    .dataframe tbody tr th:only-of-type {\n",
              "        vertical-align: middle;\n",
              "    }\n",
              "\n",
              "    .dataframe tbody tr th {\n",
              "        vertical-align: top;\n",
              "    }\n",
              "\n",
              "    .dataframe thead th {\n",
              "        text-align: right;\n",
              "    }\n",
              "</style>\n",
              "<table border=\"1\" class=\"dataframe\">\n",
              "  <thead>\n",
              "    <tr style=\"text-align: right;\">\n",
              "      <th></th>\n",
              "      <th>Gender</th>\n",
              "      <th>Height</th>\n",
              "      <th>Weight</th>\n",
              "    </tr>\n",
              "  </thead>\n",
              "  <tbody>\n",
              "    <tr>\n",
              "      <th>0</th>\n",
              "      <td>1</td>\n",
              "      <td>73.847017</td>\n",
              "      <td>241.893563</td>\n",
              "    </tr>\n",
              "    <tr>\n",
              "      <th>1</th>\n",
              "      <td>0</td>\n",
              "      <td>68.781904</td>\n",
              "      <td>162.310473</td>\n",
              "    </tr>\n",
              "    <tr>\n",
              "      <th>2</th>\n",
              "      <td>0</td>\n",
              "      <td>74.110105</td>\n",
              "      <td>212.740856</td>\n",
              "    </tr>\n",
              "    <tr>\n",
              "      <th>3</th>\n",
              "      <td>0</td>\n",
              "      <td>71.730978</td>\n",
              "      <td>220.042470</td>\n",
              "    </tr>\n",
              "    <tr>\n",
              "      <th>4</th>\n",
              "      <td>1</td>\n",
              "      <td>69.881796</td>\n",
              "      <td>206.349801</td>\n",
              "    </tr>\n",
              "  </tbody>\n",
              "</table>\n",
              "</div>"
            ],
            "text/plain": [
              "   Gender     Height      Weight\n",
              "0       1  73.847017  241.893563\n",
              "1       0  68.781904  162.310473\n",
              "2       0  74.110105  212.740856\n",
              "3       0  71.730978  220.042470\n",
              "4       1  69.881796  206.349801"
            ]
          },
          "metadata": {
            "tags": []
          },
          "execution_count": 49
        }
      ]
    },
    {
      "cell_type": "markdown",
      "metadata": {
        "id": "gcZoVNAEg10l"
      },
      "source": [
        "Height: Inches weight: Pounds"
      ]
    },
    {
      "cell_type": "code",
      "metadata": {
        "id": "wolicpfdeje7"
      },
      "source": [
        "data[\"Gender\"]= data[\"Gender\"].astype(int)"
      ],
      "execution_count": null,
      "outputs": []
    },
    {
      "cell_type": "code",
      "metadata": {
        "colab": {
          "base_uri": "https://localhost:8080/"
        },
        "id": "obZJ_Hdog-St",
        "outputId": "3f799ea2-1610-451a-cf6d-00313d0ce5e3"
      },
      "source": [
        "data.dtypes"
      ],
      "execution_count": null,
      "outputs": [
        {
          "output_type": "execute_result",
          "data": {
            "text/plain": [
              "Gender      int64\n",
              "Height    float64\n",
              "Weight    float64\n",
              "dtype: object"
            ]
          },
          "metadata": {
            "tags": []
          },
          "execution_count": 11
        }
      ]
    },
    {
      "cell_type": "code",
      "metadata": {
        "id": "O7sjTYsze_DS"
      },
      "source": [
        "data[\"Height\"] = data[\"Height\"]*2.54   #inches to cm\n",
        "data[\"Weight\"] = data[\"Weight\"]/2.2046  #pounds to kg"
      ],
      "execution_count": null,
      "outputs": []
    },
    {
      "cell_type": "code",
      "metadata": {
        "colab": {
          "base_uri": "https://localhost:8080/",
          "height": 195
        },
        "id": "p8hPKYqshdEY",
        "outputId": "9b221ce1-e848-46a7-d100-0b801499eb06"
      },
      "source": [
        "data.head()"
      ],
      "execution_count": null,
      "outputs": [
        {
          "output_type": "execute_result",
          "data": {
            "text/html": [
              "<div>\n",
              "<style scoped>\n",
              "    .dataframe tbody tr th:only-of-type {\n",
              "        vertical-align: middle;\n",
              "    }\n",
              "\n",
              "    .dataframe tbody tr th {\n",
              "        vertical-align: top;\n",
              "    }\n",
              "\n",
              "    .dataframe thead th {\n",
              "        text-align: right;\n",
              "    }\n",
              "</style>\n",
              "<table border=\"1\" class=\"dataframe\">\n",
              "  <thead>\n",
              "    <tr style=\"text-align: right;\">\n",
              "      <th></th>\n",
              "      <th>Gender</th>\n",
              "      <th>Height</th>\n",
              "      <th>Weight</th>\n",
              "    </tr>\n",
              "  </thead>\n",
              "  <tbody>\n",
              "    <tr>\n",
              "      <th>0</th>\n",
              "      <td>0</td>\n",
              "      <td>187.571423</td>\n",
              "      <td>109.722200</td>\n",
              "    </tr>\n",
              "    <tr>\n",
              "      <th>1</th>\n",
              "      <td>0</td>\n",
              "      <td>174.706036</td>\n",
              "      <td>73.623547</td>\n",
              "    </tr>\n",
              "    <tr>\n",
              "      <th>2</th>\n",
              "      <td>0</td>\n",
              "      <td>188.239668</td>\n",
              "      <td>96.498619</td>\n",
              "    </tr>\n",
              "    <tr>\n",
              "      <th>3</th>\n",
              "      <td>0</td>\n",
              "      <td>182.196685</td>\n",
              "      <td>99.810610</td>\n",
              "    </tr>\n",
              "    <tr>\n",
              "      <th>4</th>\n",
              "      <td>0</td>\n",
              "      <td>177.499761</td>\n",
              "      <td>93.599656</td>\n",
              "    </tr>\n",
              "  </tbody>\n",
              "</table>\n",
              "</div>"
            ],
            "text/plain": [
              "   Gender      Height      Weight\n",
              "0       0  187.571423  109.722200\n",
              "1       0  174.706036   73.623547\n",
              "2       0  188.239668   96.498619\n",
              "3       0  182.196685   99.810610\n",
              "4       0  177.499761   93.599656"
            ]
          },
          "metadata": {
            "tags": []
          },
          "execution_count": 13
        }
      ]
    },
    {
      "cell_type": "code",
      "metadata": {
        "id": "VD8klaKzkKly"
      },
      "source": [
        "import random\n",
        "age = []\n",
        "for i in range(10000):\n",
        "  num = random.randint(15,60)\n",
        "  age.append(num)"
      ],
      "execution_count": null,
      "outputs": []
    },
    {
      "cell_type": "code",
      "metadata": {
        "id": "_jcmuhPKk3bD"
      },
      "source": [
        "data[\"Age\"] = age"
      ],
      "execution_count": null,
      "outputs": []
    },
    {
      "cell_type": "code",
      "metadata": {
        "colab": {
          "base_uri": "https://localhost:8080/",
          "height": 195
        },
        "id": "URds5Ssnk6jJ",
        "outputId": "bbdf6cff-c6b0-4bd2-e019-9134bb69ed4d"
      },
      "source": [
        "data.head()"
      ],
      "execution_count": null,
      "outputs": [
        {
          "output_type": "execute_result",
          "data": {
            "text/html": [
              "<div>\n",
              "<style scoped>\n",
              "    .dataframe tbody tr th:only-of-type {\n",
              "        vertical-align: middle;\n",
              "    }\n",
              "\n",
              "    .dataframe tbody tr th {\n",
              "        vertical-align: top;\n",
              "    }\n",
              "\n",
              "    .dataframe thead th {\n",
              "        text-align: right;\n",
              "    }\n",
              "</style>\n",
              "<table border=\"1\" class=\"dataframe\">\n",
              "  <thead>\n",
              "    <tr style=\"text-align: right;\">\n",
              "      <th></th>\n",
              "      <th>Gender</th>\n",
              "      <th>Height</th>\n",
              "      <th>Weight</th>\n",
              "      <th>Age</th>\n",
              "    </tr>\n",
              "  </thead>\n",
              "  <tbody>\n",
              "    <tr>\n",
              "      <th>0</th>\n",
              "      <td>0</td>\n",
              "      <td>187.571423</td>\n",
              "      <td>109.722200</td>\n",
              "      <td>57</td>\n",
              "    </tr>\n",
              "    <tr>\n",
              "      <th>1</th>\n",
              "      <td>0</td>\n",
              "      <td>174.706036</td>\n",
              "      <td>73.623547</td>\n",
              "      <td>22</td>\n",
              "    </tr>\n",
              "    <tr>\n",
              "      <th>2</th>\n",
              "      <td>0</td>\n",
              "      <td>188.239668</td>\n",
              "      <td>96.498619</td>\n",
              "      <td>53</td>\n",
              "    </tr>\n",
              "    <tr>\n",
              "      <th>3</th>\n",
              "      <td>0</td>\n",
              "      <td>182.196685</td>\n",
              "      <td>99.810610</td>\n",
              "      <td>46</td>\n",
              "    </tr>\n",
              "    <tr>\n",
              "      <th>4</th>\n",
              "      <td>0</td>\n",
              "      <td>177.499761</td>\n",
              "      <td>93.599656</td>\n",
              "      <td>43</td>\n",
              "    </tr>\n",
              "  </tbody>\n",
              "</table>\n",
              "</div>"
            ],
            "text/plain": [
              "   Gender      Height      Weight  Age\n",
              "0       0  187.571423  109.722200   57\n",
              "1       0  174.706036   73.623547   22\n",
              "2       0  188.239668   96.498619   53\n",
              "3       0  182.196685   99.810610   46\n",
              "4       0  177.499761   93.599656   43"
            ]
          },
          "metadata": {
            "tags": []
          },
          "execution_count": 18
        }
      ]
    },
    {
      "cell_type": "code",
      "metadata": {
        "colab": {
          "base_uri": "https://localhost:8080/"
        },
        "id": "3VFHGOBDl57k",
        "outputId": "9a81f443-adea-417b-8d55-22afa936ec18"
      },
      "source": [
        "data.dtypes"
      ],
      "execution_count": null,
      "outputs": [
        {
          "output_type": "execute_result",
          "data": {
            "text/plain": [
              "Gender      int64\n",
              "Height    float64\n",
              "Weight    float64\n",
              "Age         int64\n",
              "dtype: object"
            ]
          },
          "metadata": {
            "tags": []
          },
          "execution_count": 75
        }
      ]
    },
    {
      "cell_type": "code",
      "metadata": {
        "id": "B09CkZ6Pk6kG"
      },
      "source": [
        "data.to_csv('/content/drive/MyDrive/demo.csv', index=False)"
      ],
      "execution_count": null,
      "outputs": []
    },
    {
      "cell_type": "code",
      "metadata": {
        "id": "0NPTf0TDmBFA"
      },
      "source": [
        "data[\"Gender\"] = data[\"Gender\"].astype(str)"
      ],
      "execution_count": null,
      "outputs": []
    },
    {
      "cell_type": "markdown",
      "metadata": {
        "id": "axY5_dwnj2pW"
      },
      "source": [
        "Formula taken from https://www.diabetes.co.uk/bmr-calculator.html#:~:text=There%20are%202%20formulae%20used,(4.676%20*%20age%20%5Byears%5D)"
      ]
    },
    {
      "cell_type": "code",
      "metadata": {
        "id": "FtcF_BSQj4Tq"
      },
      "source": [
        "bmr =[]\n",
        "for i in range(10000):\n",
        "  ag = data[\"Age\"][i]\n",
        "  hei = data[\"Height\"][i]\n",
        "  wei = data[\"Weight\"][i]\n",
        "  if data[\"Gender\"][i] == \"0\":\n",
        "    BMR = 66.47 + (13.75 * wei) + (5.003 * hei)-(6.755 * ag)\n",
        "    bmr.append(BMR)\n",
        "  if data[\"Gender\"][i] == \"1\":\n",
        "    BMR = 655.1  + (9.563 * wei) + (1.85 * hei) - (4.676 * ag)\n",
        "    bmr.append(BMR)"
      ],
      "execution_count": null,
      "outputs": []
    },
    {
      "cell_type": "code",
      "metadata": {
        "colab": {
          "base_uri": "https://localhost:8080/"
        },
        "id": "isGBG4pVlqxZ",
        "outputId": "4bfd184d-ce94-4947-f233-b55b66f735fb"
      },
      "source": [
        "bmr"
      ],
      "execution_count": null,
      "outputs": [
        {
          "output_type": "execute_result",
          "data": {
            "text/plain": [
              "[2189.3300870060166,\n",
              " 1655.628075763012,\n",
              " 2199.989069409206,\n",
              " 2012.6459001411122,\n",
              " 1964.5415705227792,\n",
              " 1681.2967549947302,\n",
              " 1709.4353901298848,\n",
              " 1759.7309063625617,\n",
              " 1711.411066806514,\n",
              " 1665.9243946287959,\n",
              " 1756.76114968853,\n",
              " 2127.564056951832,\n",
              " 1668.418036209099,\n",
              " 1743.426009444952,\n",
              " 1751.1603146549169,\n",
              " 1750.0726676561258,\n",
              " 2094.5212223071167,\n",
              " 1795.5785512792554,\n",
              " 1929.0187519352714,\n",
              " 1837.8924737751381,\n",
              " 1873.6075759668934,\n",
              " 1999.7378013942255,\n",
              " 1688.8474601257876,\n",
              " 2117.941800453726,\n",
              " 1811.3147988208245,\n",
              " 1882.1249863431412,\n",
              " 1716.469418860055,\n",
              " 1970.8444102399517,\n",
              " 1759.3455920664194,\n",
              " 1636.0801418541812,\n",
              " 1716.1253830131154,\n",
              " 2193.3208586594233,\n",
              " 1948.6515100700942,\n",
              " 1901.067050122894,\n",
              " 1967.303945703737,\n",
              " 1894.0295829408326,\n",
              " 2027.3798232183506,\n",
              " 1951.9262798654936,\n",
              " 1593.666488423316,\n",
              " 1536.1512136089411,\n",
              " 1868.7647127202476,\n",
              " 1910.3690441956865,\n",
              " 1717.8927323617463,\n",
              " 1560.4157037945029,\n",
              " 1654.1249242101817,\n",
              " 1872.1906590138267,\n",
              " 1722.1974121584115,\n",
              " 2132.214782759368,\n",
              " 1886.4768960782412,\n",
              " 1918.8233517159442,\n",
              " 1780.7603836925578,\n",
              " 1908.4382086609298,\n",
              " 1673.9664681987756,\n",
              " 1823.846886630894,\n",
              " 1821.047597172111,\n",
              " 1761.2008566510585,\n",
              " 1787.2944872228054,\n",
              " 2035.7747437874452,\n",
              " 1937.4106073982755,\n",
              " 2033.3114485994338,\n",
              " 1835.211201123784,\n",
              " 2010.0943357008337,\n",
              " 2067.182444136035,\n",
              " 1710.1605594276675,\n",
              " 1771.5925254096258,\n",
              " 1621.125062804907,\n",
              " 1929.5473747693875,\n",
              " 2050.0195861354628,\n",
              " 1730.6595717528508,\n",
              " 1822.736957079218,\n",
              " 1713.2550189406184,\n",
              " 1865.236161166648,\n",
              " 1665.1350905125746,\n",
              " 1773.867926114293,\n",
              " 2235.0948954674304,\n",
              " 2147.0288065212017,\n",
              " 2090.272241640059,\n",
              " 2011.0294104213615,\n",
              " 1974.8169388238016,\n",
              " 1579.0677054673845,\n",
              " 1725.808200797505,\n",
              " 1943.0774776195658,\n",
              " 2225.0563153670814,\n",
              " 1681.4844253744516,\n",
              " 1562.3332636395303,\n",
              " 1896.08883498463,\n",
              " 1928.482728387311,\n",
              " 2014.0268258713022,\n",
              " 1837.2247241306056,\n",
              " 1979.9995491880802,\n",
              " 1973.127922519522,\n",
              " 1679.9369063011154,\n",
              " 1978.4435065988166,\n",
              " 1780.2662039990093,\n",
              " 1813.036138948685,\n",
              " 1826.2041018179582,\n",
              " 1918.4974331718556,\n",
              " 1664.3948302022939,\n",
              " 1657.749347901155,\n",
              " 1886.5272711434081,\n",
              " 2060.5546997530737,\n",
              " 1778.4234811888712,\n",
              " 1729.7631848893811,\n",
              " 1808.4204224386056,\n",
              " 1982.5968834294974,\n",
              " 1767.1305885550958,\n",
              " 1677.5036777370476,\n",
              " 1825.2817003281377,\n",
              " 1835.8813030756519,\n",
              " 1898.288085618844,\n",
              " 1854.5308616154396,\n",
              " 1926.2384775083567,\n",
              " 2112.6920258606187,\n",
              " 1904.8868129488148,\n",
              " 1552.3707158429293,\n",
              " 2125.159319903874,\n",
              " 1959.2751564481619,\n",
              " 1845.5761620608453,\n",
              " 1829.108472317713,\n",
              " 2160.9834006657984,\n",
              " 1693.9208478643977,\n",
              " 1950.4936618503284,\n",
              " 1828.0020162499547,\n",
              " 1501.460971067646,\n",
              " 2032.510842071035,\n",
              " 1976.757457754602,\n",
              " 1831.2997196132576,\n",
              " 1968.6354670386854,\n",
              " 1961.5556335174454,\n",
              " 1722.412792046333,\n",
              " 1910.3527330775175,\n",
              " 1660.1595014583825,\n",
              " 1922.9153842864177,\n",
              " 1879.5509495659344,\n",
              " 1665.8893958907365,\n",
              " 1947.0607361635157,\n",
              " 1620.0338220505992,\n",
              " 1794.065576638582,\n",
              " 1768.637940635362,\n",
              " 1682.2267863876164,\n",
              " 1857.1818147031308,\n",
              " 1779.345728064039,\n",
              " 1846.8518481388346,\n",
              " 1723.4044655301268,\n",
              " 1977.2682146548736,\n",
              " 1851.9713850023272,\n",
              " 1935.3728995010413,\n",
              " 2107.262921803484,\n",
              " 1760.0002055839964,\n",
              " 1928.6574542926824,\n",
              " 1754.2973018633024,\n",
              " 1487.888298263375,\n",
              " 1803.7455702402076,\n",
              " 1746.4014045546999,\n",
              " 1724.3693682792446,\n",
              " 2035.8846423104467,\n",
              " 1894.4450969867812,\n",
              " 1650.4335554001223,\n",
              " 1643.4265755426677,\n",
              " 1937.162883158314,\n",
              " 1876.18413648335,\n",
              " 1634.5420100492584,\n",
              " 1949.2319218820485,\n",
              " 1797.3509913050366,\n",
              " 1964.2010493347102,\n",
              " 1606.446572185792,\n",
              " 1586.012338831028,\n",
              " 1791.9156679611901,\n",
              " 1770.0291043574093,\n",
              " 1888.947694739213,\n",
              " 1891.1121585575004,\n",
              " 1954.4151390216398,\n",
              " 1681.0989559700843,\n",
              " 2008.3841248733916,\n",
              " 1628.0626523085043,\n",
              " 1718.2278342037387,\n",
              " 1926.1397196404703,\n",
              " 1923.0181571227993,\n",
              " 1652.8528852918876,\n",
              " 1757.1628724111079,\n",
              " 1906.759275629113,\n",
              " 1907.5117674512417,\n",
              " 1618.688510504676,\n",
              " 1940.1726839784196,\n",
              " 2092.1491981117692,\n",
              " 1645.8384435928022,\n",
              " 2100.1442361164695,\n",
              " 2084.3485560843583,\n",
              " 1652.293467069448,\n",
              " 1644.371625999769,\n",
              " 2169.4257224716384,\n",
              " 2190.247856646368,\n",
              " 2021.5960135609312,\n",
              " 2237.7466125784886,\n",
              " 2181.143624982754,\n",
              " 2008.4583358513773,\n",
              " 1791.9257869369035,\n",
              " 2322.6835109407066,\n",
              " 1574.6333882986246,\n",
              " 1753.145458298182,\n",
              " 1869.7411892676926,\n",
              " 2146.7723216155,\n",
              " 2196.2699156310705,\n",
              " 1570.0654516390669,\n",
              " 1799.2061060257395,\n",
              " 1472.5639433774872,\n",
              " 1791.0215671345177,\n",
              " 1641.3037113906664,\n",
              " 1981.7778550866983,\n",
              " 1976.684456087156,\n",
              " 1885.6862624979071,\n",
              " 1895.8248293094628,\n",
              " 2070.281525891507,\n",
              " 2123.108788019912,\n",
              " 1737.108763828948,\n",
              " 2244.963692943928,\n",
              " 1876.6079361098132,\n",
              " 1914.0386759771475,\n",
              " 2189.8627083392607,\n",
              " 1605.351288723433,\n",
              " 2049.0969255799564,\n",
              " 1697.0257815603713,\n",
              " 1847.772139753124,\n",
              " 1809.0322613903747,\n",
              " 1791.665011744975,\n",
              " 2079.5870669723267,\n",
              " 1472.9019482937013,\n",
              " 1685.6460120268048,\n",
              " 1353.954705007143,\n",
              " 1995.6268188127483,\n",
              " 1677.359063964021,\n",
              " 2015.0238774891955,\n",
              " 2335.1065830946054,\n",
              " 1936.7268956299085,\n",
              " 1902.6624529295766,\n",
              " 2079.257677330369,\n",
              " 1930.238342898266,\n",
              " 1921.197746659841,\n",
              " 1975.5670174958211,\n",
              " 1929.4947634178254,\n",
              " 1610.9155830150953,\n",
              " 1694.8634671784564,\n",
              " 1653.079704197166,\n",
              " 1736.0204540337738,\n",
              " 1811.9707997572764,\n",
              " 1735.3428106945344,\n",
              " 1843.03900108788,\n",
              " 1716.1004302061094,\n",
              " 2251.6662120456144,\n",
              " 2086.6467514272545,\n",
              " 1892.7201744236504,\n",
              " 1848.8478479635069,\n",
              " 1851.3240615742961,\n",
              " 1952.783939084196,\n",
              " 1963.9889860018027,\n",
              " 1913.6088564013328,\n",
              " 1804.5579437309439,\n",
              " 1680.925530565127,\n",
              " 2145.7268176025077,\n",
              " 1891.6145550010444,\n",
              " 1605.82955383144,\n",
              " 1909.2932821115953,\n",
              " 1840.320549952294,\n",
              " 2302.5840232622454,\n",
              " 1906.4888783649544,\n",
              " 1912.9878782737183,\n",
              " 1844.6627117784205,\n",
              " 1925.4936267927424,\n",
              " 1696.6713764721285,\n",
              " 1728.8517303314852,\n",
              " 1913.224471726951,\n",
              " 2223.186058915447,\n",
              " 1935.2428634000817,\n",
              " 1992.7798914479536,\n",
              " 1822.3390967190041,\n",
              " 1953.8630582174628,\n",
              " 1686.6559850489987,\n",
              " 1674.650326547348,\n",
              " 1989.0912876207444,\n",
              " 1933.6872562664341,\n",
              " 2003.441363483365,\n",
              " 1856.9161073241257,\n",
              " 1826.1670398110996,\n",
              " 1486.598524870623,\n",
              " 1511.7964947602738,\n",
              " 1961.7327135293,\n",
              " 1656.2578978757897,\n",
              " 1782.0558485322158,\n",
              " 2142.8330598561347,\n",
              " 1596.9324356505797,\n",
              " 2287.432748127433,\n",
              " 1774.398356109502,\n",
              " 1850.3289838214346,\n",
              " 2033.7177761552016,\n",
              " 1804.7892987566688,\n",
              " 2035.2427120382454,\n",
              " 1676.0937752142568,\n",
              " 2207.064816328916,\n",
              " 2013.322695617158,\n",
              " 1611.2736979420015,\n",
              " 2041.4869633532262,\n",
              " 1739.204715645028,\n",
              " 1817.3628793879927,\n",
              " 1802.4076972902344,\n",
              " 1647.2028373780654,\n",
              " 1962.8863576460776,\n",
              " 2061.690942839348,\n",
              " 1723.2117457947074,\n",
              " 1750.9539188535014,\n",
              " 1737.042650321278,\n",
              " 2253.821591482453,\n",
              " 2092.656227352136,\n",
              " 1622.668762948136,\n",
              " 1738.2180852339925,\n",
              " 1652.3332225883896,\n",
              " 1874.042082762091,\n",
              " 1849.547450306367,\n",
              " 2073.0093286007145,\n",
              " 2221.6537991743353,\n",
              " 1945.0584060746469,\n",
              " 2053.6713270376313,\n",
              " 1866.0814063398552,\n",
              " 2054.103287836528,\n",
              " 1754.2604483640223,\n",
              " 1892.4571312480116,\n",
              " 1849.8473539567947,\n",
              " 1696.5468664379546,\n",
              " 2014.505220396308,\n",
              " 1752.0966941805912,\n",
              " 1653.1506325759403,\n",
              " 2242.6665553126604,\n",
              " 1917.056798724659,\n",
              " 1836.6772188915547,\n",
              " 1981.600815132856,\n",
              " 1835.97376446239,\n",
              " 1831.858162439154,\n",
              " 2069.923998014316,\n",
              " 1903.6639402588728,\n",
              " 1740.6471631611907,\n",
              " 1661.6150845530144,\n",
              " 1963.9128349425125,\n",
              " 1662.4436305978272,\n",
              " 1909.5889385215928,\n",
              " 1926.281639048032,\n",
              " 2129.376263795956,\n",
              " 2006.2411569520577,\n",
              " 2059.9985037202678,\n",
              " 1889.6198282653206,\n",
              " 2029.591927480768,\n",
              " 1809.7662676869386,\n",
              " 1763.964836005735,\n",
              " 1727.929832680511,\n",
              " 1812.154717482456,\n",
              " 1965.3883361273338,\n",
              " 1876.474618760476,\n",
              " 2185.772618895062,\n",
              " 1958.5263993106978,\n",
              " 1862.1889810411199,\n",
              " 1697.3536568522954,\n",
              " 1821.8560657729174,\n",
              " 2176.0919707716566,\n",
              " 1671.8146107127286,\n",
              " 1685.8728800687738,\n",
              " 1951.8451767207114,\n",
              " 1873.6514471328505,\n",
              " 1800.828137859698,\n",
              " 2179.8754226957785,\n",
              " 1972.92329948944,\n",
              " 1944.3133749802153,\n",
              " 1951.5950730896452,\n",
              " 1912.6504629107458,\n",
              " 1636.5234087283422,\n",
              " 1851.5949174717405,\n",
              " 1904.9440175205245,\n",
              " 1594.0160209013902,\n",
              " 2021.9238815961205,\n",
              " 1826.1577351081523,\n",
              " 1697.7114403686014,\n",
              " 1550.4743467114536,\n",
              " 1590.1547690205268,\n",
              " 1773.9595437334574,\n",
              " 1845.1006921527337,\n",
              " 1906.3208143299194,\n",
              " 1961.8598874175034,\n",
              " 2011.0854342644466,\n",
              " 1728.447549781727,\n",
              " 2195.091346860169,\n",
              " 1899.9285128358,\n",
              " 1846.4234254042904,\n",
              " 1729.4716133707334,\n",
              " 1832.0043731682244,\n",
              " 1739.9093399900642,\n",
              " 1935.598841228231,\n",
              " 1624.5808096370424,\n",
              " 1861.349600419822,\n",
              " 1903.590068862885,\n",
              " 1906.1135833880683,\n",
              " 1459.4146168869956,\n",
              " 1804.2126910849656,\n",
              " 1932.744769907957,\n",
              " 1910.1537128091418,\n",
              " 1577.5516431036622,\n",
              " 2036.5971695192668,\n",
              " 1692.4993965692997,\n",
              " 1779.676446790293,\n",
              " 1907.5273141693337,\n",
              " 1921.5689700045223,\n",
              " 2099.969033456823,\n",
              " 2026.9857114088165,\n",
              " 1361.2085227320545,\n",
              " 2049.7186169000356,\n",
              " 1723.320822364128,\n",
              " 1696.3132204604055,\n",
              " 1797.1720357353604,\n",
              " 1866.1434040478107,\n",
              " 1789.0823438651648,\n",
              " 1851.244195876915,\n",
              " 1978.6530310370758,\n",
              " 1966.722382555814,\n",
              " 2142.3815159113187,\n",
              " 1744.3602438964463,\n",
              " 1830.502883756138,\n",
              " 1751.0983671579752,\n",
              " 1796.011642335568,\n",
              " 1940.9234428791074,\n",
              " 2016.1591446320504,\n",
              " 1552.6074048629944,\n",
              " 1959.564246245413,\n",
              " 1817.39904191225,\n",
              " 1810.7541316334757,\n",
              " 2218.0778794829166,\n",
              " 1938.8225560863311,\n",
              " 1880.4664676896953,\n",
              " 1857.6968715018845,\n",
              " 1720.5660066268833,\n",
              " 1868.0275241022853,\n",
              " 2161.30970765374,\n",
              " 1685.92049943946,\n",
              " 1859.6596935999432,\n",
              " 1533.2634930721817,\n",
              " 1731.7074240255165,\n",
              " 1851.7908898373744,\n",
              " 2235.8797393906652,\n",
              " 1634.6119520565949,\n",
              " 1850.4347405496533,\n",
              " 2136.215587849299,\n",
              " 1793.314028831923,\n",
              " 2160.8478663938286,\n",
              " 1629.8943939732385,\n",
              " 1918.184341341623,\n",
              " 1867.3564201719246,\n",
              " 1989.7377144320717,\n",
              " 1768.6698070548077,\n",
              " 1760.3748971389625,\n",
              " 1663.1062810836552,\n",
              " 1740.4911902918798,\n",
              " 1890.3190015463579,\n",
              " 2152.203477599025,\n",
              " 1643.3300233760133,\n",
              " 2199.692279827062,\n",
              " 1893.58386346093,\n",
              " 1799.6773046011472,\n",
              " 1911.4739637155135,\n",
              " 2021.1436311517634,\n",
              " 1909.7341331448051,\n",
              " 2135.4174416272217,\n",
              " 1736.489121931405,\n",
              " 1774.7033494439436,\n",
              " 2055.322957013148,\n",
              " 1730.0261113564316,\n",
              " 1928.6823988230337,\n",
              " 1822.0225976442475,\n",
              " 1982.7679775744473,\n",
              " 2129.2816983780403,\n",
              " 1839.6267524088585,\n",
              " 1719.1907016568905,\n",
              " 1697.9749379845448,\n",
              " 1645.6386737614275,\n",
              " 1846.591210380605,\n",
              " 1878.9338696854438,\n",
              " 1846.311911348441,\n",
              " 1822.7213231481087,\n",
              " 1789.5392009330624,\n",
              " 1812.336588548794,\n",
              " 1652.93259909657,\n",
              " 1951.9332816268407,\n",
              " 2025.845877737605,\n",
              " 1933.1041868870511,\n",
              " 1938.8509329301799,\n",
              " 1605.3113977239332,\n",
              " 1893.8488913103197,\n",
              " 1920.3819784485163,\n",
              " 1740.7712296484622,\n",
              " 1838.2156590281368,\n",
              " 2020.366353847418,\n",
              " 1980.9224284302445,\n",
              " 1644.9837159147871,\n",
              " 1908.4925946852363,\n",
              " 1873.276719444959,\n",
              " 2117.407733164061,\n",
              " 2081.729983796416,\n",
              " 1704.0217267081644,\n",
              " 1738.1362351586656,\n",
              " 2044.0366376975815,\n",
              " 1836.7873203501658,\n",
              " 1992.9489304677204,\n",
              " 1937.3638338661585,\n",
              " 1859.7243655926102,\n",
              " 1710.7661685488779,\n",
              " 1736.9743849847146,\n",
              " 2000.1375602539315,\n",
              " 1933.195039847569,\n",
              " 1923.867604287816,\n",
              " 2089.6634503121845,\n",
              " 1911.0550917168346,\n",
              " 1484.070057626866,\n",
              " 1957.4810026442597,\n",
              " 1513.0018600116855,\n",
              " 1671.1056496607741,\n",
              " 1820.8627562102977,\n",
              " 1902.156118124305,\n",
              " 1965.5581975948078,\n",
              " 1901.9035837759252,\n",
              " 1738.5202574171399,\n",
              " 1797.812077791179,\n",
              " 1591.069186369777,\n",
              " 1936.2300754320877,\n",
              " 1650.2156101562377,\n",
              " 1655.5354534266971,\n",
              " 1786.4360400336573,\n",
              " 1880.042792110181,\n",
              " 2014.373939370015,\n",
              " 1856.9376388421324,\n",
              " 2187.357758122406,\n",
              " 2009.9413659604293,\n",
              " 1762.9806869607855,\n",
              " 2264.756531442121,\n",
              " 1486.261440220661,\n",
              " 2037.1674183235014,\n",
              " 1882.5881700177908,\n",
              " 2310.848885497287,\n",
              " 1608.2474956255141,\n",
              " 1648.5636353371506,\n",
              " 2042.8671698580126,\n",
              " 1815.3253093382884,\n",
              " 1789.3088369916945,\n",
              " 1920.6051234480508,\n",
              " 1954.3791202527455,\n",
              " 1804.079708747539,\n",
              " 1937.5540840903554,\n",
              " 1619.714547357626,\n",
              " 1502.156256177036,\n",
              " 1961.6310056207335,\n",
              " 1732.1752084448444,\n",
              " 2197.574794595069,\n",
              " 1955.3644300463905,\n",
              " 2118.8261083948505,\n",
              " 1977.6711092062747,\n",
              " 2158.413875837249,\n",
              " 1579.5723650845518,\n",
              " 1993.2419925465122,\n",
              " 1865.7526583556728,\n",
              " 1865.9141457751919,\n",
              " 1841.669753734443,\n",
              " 1793.0556276596415,\n",
              " 1263.6414643135681,\n",
              " 1684.2449118238378,\n",
              " 2001.9499951751257,\n",
              " 1710.2510259974333,\n",
              " 2009.0713982969485,\n",
              " 1994.6588905832707,\n",
              " 1536.061613427287,\n",
              " 1690.666410142707,\n",
              " 2136.11622576951,\n",
              " 1932.3029842393294,\n",
              " 1952.6391134682217,\n",
              " 1745.6715098850702,\n",
              " 2149.5954998571965,\n",
              " 1751.3501097232875,\n",
              " 1688.274894764118,\n",
              " 1838.9970878729143,\n",
              " 1489.3607331086757,\n",
              " 1782.4405847479538,\n",
              " 1457.1380456798315,\n",
              " 1763.0512110336472,\n",
              " 1839.1407464517786,\n",
              " 1844.9759801945056,\n",
              " 1847.081040225571,\n",
              " 1562.8832511821336,\n",
              " 1637.5590239423918,\n",
              " 1662.8582301170882,\n",
              " 2055.019594035746,\n",
              " 1660.4549835289608,\n",
              " 1830.1585038754388,\n",
              " 1977.2356721993785,\n",
              " 1726.8638861184475,\n",
              " 1631.6996662473612,\n",
              " 1499.2325631599997,\n",
              " 1944.6993885248478,\n",
              " 2190.2109528142314,\n",
              " 1913.1907119970224,\n",
              " 1664.4441223810468,\n",
              " 1456.7045938010638,\n",
              " 1938.807921545666,\n",
              " 2123.741801121266,\n",
              " 2110.2923215775063,\n",
              " 1711.1483898999763,\n",
              " 1850.3742630530687,\n",
              " 2036.1643430327322,\n",
              " 1987.4810760934938,\n",
              " 2084.793240564978,\n",
              " 1622.1856764163963,\n",
              " 1660.8354624029444,\n",
              " 2039.6166690823384,\n",
              " 1921.7067868101049,\n",
              " 1759.054263942008,\n",
              " 1729.3661495588203,\n",
              " 1514.6668230550542,\n",
              " 1934.5039517497132,\n",
              " 2058.9832693528465,\n",
              " 1491.8583435914936,\n",
              " 1721.654950935765,\n",
              " 1945.8068263060645,\n",
              " 1876.187460596976,\n",
              " 2037.0213968080855,\n",
              " 1747.7486491161715,\n",
              " 1718.7381329486223,\n",
              " 2027.6930482998564,\n",
              " 1640.1069316276546,\n",
              " 1871.3301729960594,\n",
              " 2060.117174901553,\n",
              " 1778.0297553704154,\n",
              " 2249.558337779734,\n",
              " 1944.6350045740578,\n",
              " 1844.9996880592635,\n",
              " 1724.7614657680606,\n",
              " 1660.83146609804,\n",
              " 2153.3216855888654,\n",
              " 1744.9808146437229,\n",
              " 2012.8107472231802,\n",
              " 2086.0851240763254,\n",
              " 2073.2363077127625,\n",
              " 1697.6513571106757,\n",
              " 1969.2403898460107,\n",
              " 1527.2923781658928,\n",
              " 2195.650876819183,\n",
              " 1892.8560075979908,\n",
              " 1588.9608325532051,\n",
              " 1950.312247987151,\n",
              " 2221.4772652400356,\n",
              " 2178.1326630014864,\n",
              " 1999.532717602581,\n",
              " 1852.4348298214227,\n",
              " 1718.0437230926984,\n",
              " 1888.891542068734,\n",
              " 1607.9836121175088,\n",
              " 1948.5832772718127,\n",
              " 1652.9618133128433,\n",
              " 1824.1382966289511,\n",
              " 1635.546856325408,\n",
              " 1981.2041521155618,\n",
              " 1660.4383269889147,\n",
              " 1868.1972096852126,\n",
              " 1694.5627531737987,\n",
              " 1832.1224549693986,\n",
              " 1899.6182730240648,\n",
              " 1697.645695023454,\n",
              " 2028.5382440782018,\n",
              " 1775.1565707131717,\n",
              " 1954.490929727599,\n",
              " 1677.1333433405796,\n",
              " 1959.9349474907933,\n",
              " 2248.819824564017,\n",
              " 2012.5151427056026,\n",
              " 1903.1438973758245,\n",
              " 1729.787466187234,\n",
              " 1598.8878283718532,\n",
              " 1717.6329568481997,\n",
              " 1480.7040762136976,\n",
              " 2041.2325861454483,\n",
              " 1936.6274122976652,\n",
              " 2006.417731463364,\n",
              " 2039.6338503619165,\n",
              " 2198.378226872727,\n",
              " 2043.4297769184432,\n",
              " 2047.2565119236056,\n",
              " 1853.1920426336992,\n",
              " 1925.508785054724,\n",
              " 1885.9621243572258,\n",
              " 1819.5617588630976,\n",
              " 1755.1186442663798,\n",
              " 1959.7182173731148,\n",
              " 1844.660789314042,\n",
              " 2117.406557180683,\n",
              " 2045.1926017851913,\n",
              " 2027.286659091993,\n",
              " 1921.5723901800336,\n",
              " 1864.2090561462524,\n",
              " 1751.7679775036345,\n",
              " 2041.5951770883994,\n",
              " 1921.6809213817055,\n",
              " 1780.660208305376,\n",
              " 1924.0757550592577,\n",
              " 2086.496392396676,\n",
              " 1807.621054273739,\n",
              " 1739.2762692083568,\n",
              " 1638.1556965835123,\n",
              " 1707.8252897091552,\n",
              " 1761.2615282089766,\n",
              " 1933.8012399602003,\n",
              " 1637.7710938681275,\n",
              " 2002.9074458714158,\n",
              " 1797.104010994442,\n",
              " 1859.4607388547988,\n",
              " 1931.4193264156563,\n",
              " 1869.9639036833028,\n",
              " 1976.3264736032863,\n",
              " 1511.2296486195228,\n",
              " 1987.356033393251,\n",
              " 1759.921033410068,\n",
              " 2189.9850208335124,\n",
              " 1789.4658449188032,\n",
              " 2074.482568481668,\n",
              " 1852.5950154122386,\n",
              " 1819.2466535879353,\n",
              " 1783.1178469859328,\n",
              " 2135.48098083905,\n",
              " 1919.0693263216774,\n",
              " 1754.3052782592436,\n",
              " 1860.2214712748419,\n",
              " 1973.9850435555934,\n",
              " 1863.7442838777786,\n",
              " 1773.6816594981983,\n",
              " 1760.2562781826657,\n",
              " 1889.798827004582,\n",
              " 2093.185465256702,\n",
              " 1605.190451608347,\n",
              " 1669.8424051460477,\n",
              " 1958.9167673259856,\n",
              " 1780.3080247469866,\n",
              " 1953.8014872225474,\n",
              " 2095.52238551602,\n",
              " 1919.0549330893678,\n",
              " 2059.2379065150353,\n",
              " 2100.980211083088,\n",
              " 2033.4482774293965,\n",
              " 1894.9489099987577,\n",
              " 1506.5489275659263,\n",
              " 2063.1604137898985,\n",
              " 1848.1663918053373,\n",
              " 1903.317694196152,\n",
              " 1731.9413440346675,\n",
              " 1800.4028671732776,\n",
              " 1845.6554279208874,\n",
              " 1646.6093504630944,\n",
              " 1875.6481084305403,\n",
              " 1498.0734716310872,\n",
              " 1635.9685627054464,\n",
              " 1631.450674971669,\n",
              " 2029.2739999925193,\n",
              " 1960.4328782080252,\n",
              " 2044.8957893644683,\n",
              " 1634.6692711637645,\n",
              " 1511.6857107931032,\n",
              " 1849.9415485487941,\n",
              " 1701.0790384049076,\n",
              " 1747.6417634233749,\n",
              " 1885.5144535581062,\n",
              " 1971.5573321886664,\n",
              " 1706.4156228983898,\n",
              " 1915.9497965596643,\n",
              " 1650.735776731969,\n",
              " 2053.5687045708364,\n",
              " 1762.243648584717,\n",
              " 1867.7276277193653,\n",
              " 1657.2188738672326,\n",
              " 1984.2141946388415,\n",
              " 1904.738277787363,\n",
              " 1798.9610161436353,\n",
              " 1864.5616226419934,\n",
              " 1708.8844323309172,\n",
              " 2109.6860079846483,\n",
              " 2066.0962550846566,\n",
              " 1804.441935056204,\n",
              " 2048.1906762633334,\n",
              " 1826.7321656312663,\n",
              " 1681.3387100144605,\n",
              " 1944.3149509021243,\n",
              " 1958.9773926853327,\n",
              " 1955.4937462348112,\n",
              " 1802.3119184729658,\n",
              " 2113.862065456389,\n",
              " 1922.219413163745,\n",
              " 1943.2804380750656,\n",
              " 1854.5081421274306,\n",
              " 1951.2145411552087,\n",
              " 1745.5276436450483,\n",
              " 1832.934551748215,\n",
              " 1764.054095664834,\n",
              " 1573.0061445907463,\n",
              " 2052.9346470314294,\n",
              " 1553.2069800169072,\n",
              " 1916.9850329895135,\n",
              " 2096.8642827149915,\n",
              " 1922.8729280837083,\n",
              " 1916.349098691855,\n",
              " 1539.5307390864932,\n",
              " 1660.3105904711197,\n",
              " 1960.5749095621209,\n",
              " 1931.2802111587982,\n",
              " 1840.0887620427488,\n",
              " 1874.2964766066084,\n",
              " 1537.2235237863042,\n",
              " 1846.0744520768521,\n",
              " 1839.2617817683122,\n",
              " 1916.04942830667,\n",
              " 1978.5712583492825,\n",
              " 1636.3812010776257,\n",
              " 1645.7144504608323,\n",
              " 2336.8978053959213,\n",
              " 1919.4781332687937,\n",
              " 2085.642927383449,\n",
              " 1797.088436858518,\n",
              " 1919.535160215157,\n",
              " 1882.2339796626152,\n",
              " 1757.521455106717,\n",
              " 1720.8012205907792,\n",
              " 1946.993714804827,\n",
              " 1716.4119729712343,\n",
              " 1782.8697303459635,\n",
              " 1683.3104424794205,\n",
              " 1990.3316321547054,\n",
              " 1753.3825177183735,\n",
              " 1748.021206711744,\n",
              " 2046.6404088129507,\n",
              " 1881.093265382698,\n",
              " 2043.1999617248089,\n",
              " 1951.7073481098528,\n",
              " 1999.7322608112772,\n",
              " 1864.6822891253905,\n",
              " 1772.1633962991968,\n",
              " 2049.8151685993853,\n",
              " 1784.9507408979732,\n",
              " 1743.1451537266262,\n",
              " 2044.049136056694,\n",
              " 1978.6500467298797,\n",
              " 2051.0220976988726,\n",
              " 2005.7031454551488,\n",
              " 1480.6871455083665,\n",
              " 2340.3366331544216,\n",
              " 1836.7325521067849,\n",
              " 1841.0016841252295,\n",
              " 1800.7488009906695,\n",
              " 1876.3605754842188,\n",
              " 1479.335394430396,\n",
              " 1850.445539970519,\n",
              " 2110.493518672321,\n",
              " 1979.7537876519946,\n",
              " 1784.447717939484,\n",
              " 1578.6963168999557,\n",
              " 1664.5256328153846,\n",
              " 1673.9521128443648,\n",
              " 2012.904551995453,\n",
              " 1988.1493272036307,\n",
              " 1826.6686774837285,\n",
              " 1941.8505452333443,\n",
              " 1813.8279229854763,\n",
              " 2027.7912842868288,\n",
              " 1858.329384950073,\n",
              " 1784.9642418611015,\n",
              " 1980.0691838923888,\n",
              " 1861.5048224330103,\n",
              " 1941.5417408280423,\n",
              " 1499.3295655309598,\n",
              " 1919.9847401218663,\n",
              " 2103.7871118493254,\n",
              " 1925.1261169065222,\n",
              " 1647.062915015314,\n",
              " 1979.4519169552564,\n",
              " 1702.3497226118136,\n",
              " 1915.7607950140819,\n",
              " 1754.5801541383603,\n",
              " 2054.794290836466,\n",
              " 1970.1087669771223,\n",
              " 2002.0189457297488,\n",
              " 1926.1771832550905,\n",
              " 1997.8565225930604,\n",
              " 1935.6939421744335,\n",
              " 1724.2833437855197,\n",
              " 1987.4210494580536,\n",
              " 1793.2542964673526,\n",
              " 1945.1758642226687,\n",
              " 1645.6598875373993,\n",
              " 1630.752686333773,\n",
              " 1710.3563221691488,\n",
              " 1698.326048869058,\n",
              " 1689.8748805405414,\n",
              " 1681.5023515764854,\n",
              " 1698.1268282424085,\n",
              " 1747.728965252949,\n",
              " 2254.3521063773173,\n",
              " 2099.7399895670374,\n",
              " 1849.6408201026716,\n",
              " 1551.64753945937,\n",
              " 1780.7035919107639,\n",
              " 1754.1471142378518,\n",
              " 1783.7403907548323,\n",
              " 1843.148789542267,\n",
              " 1869.268603839678,\n",
              " 1922.8564246538785,\n",
              " 1989.3147719623032,\n",
              " 1813.5018745658488,\n",
              " 2297.8082146314227,\n",
              " 1851.280115725601,\n",
              " 1973.4788510696017,\n",
              " 2234.924993491468,\n",
              " 1786.0620434646758,\n",
              " 2097.453421140667,\n",
              " 1657.6155183991355,\n",
              " 2010.3976656005793,\n",
              " 1694.9020604798739,\n",
              " 1948.3978505366103,\n",
              " 1971.2032535264786,\n",
              " 1818.7504789215102,\n",
              " 1528.637116595304,\n",
              " 1418.4965047035885,\n",
              " 1476.2437862461513,\n",
              " 1849.3733179774142,\n",
              " 1703.3593699014746,\n",
              " 1715.1660090147293,\n",
              " 1837.7373607608038,\n",
              " 1672.6495731091268,\n",
              " 2009.5531077139954,\n",
              " 1634.9156717655826,\n",
              " 1833.4289521527835,\n",
              " 1925.461728717731,\n",
              " 1559.7099989570077,\n",
              " 2019.494493542396,\n",
              " 1697.4274622242558,\n",
              " 1757.1775805482653,\n",
              " 1768.4177745237075,\n",
              " 2022.024992893718,\n",
              " 2032.2059175594036,\n",
              " 1413.1253590071524,\n",
              " 2018.6901890219856,\n",
              " 1989.9924242218376,\n",
              " 1972.1169535511456,\n",
              " 1670.2043902631735,\n",
              " 1793.272895805342,\n",
              " 2058.6624468769223,\n",
              " 1845.0415940269302,\n",
              " 1860.3441105930556,\n",
              " 1719.1822543451096,\n",
              " 1796.6426658064238,\n",
              " 1620.4797714834726,\n",
              " 1769.5811119930295,\n",
              " 1664.4478497345426,\n",
              " 1897.8277788447072,\n",
              " 1964.8621874769783,\n",
              " 1767.2284132036586,\n",
              " 2004.62781147117,\n",
              " 1872.1578404404527,\n",
              " 1809.1940477883338,\n",
              " 1845.6069746484407,\n",
              " 2107.525595300273,\n",
              " 1970.7900475116717,\n",
              " 1870.9568014868596,\n",
              " 1874.4712268620412,\n",
              " 1848.3255441755196,\n",
              " 1818.3924192342831,\n",
              " 1776.6565506263041,\n",
              " 1776.342054893523,\n",
              " 1833.9647700384874,\n",
              " 1721.0283597524929,\n",
              " 1953.5083151207639,\n",
              " 1688.4874493539676,\n",
              " 1743.6606734278464,\n",
              " 2093.1211255673325,\n",
              " 1975.9312798520348,\n",
              " 1937.920280300208,\n",
              " 1909.763672152726,\n",
              " 1908.9070223774606,\n",
              " 1577.7006346010999,\n",
              " 1984.3451437160725,\n",
              " 1927.8875909798674,\n",
              " 1630.2898920691937,\n",
              " 1888.9232519414588,\n",
              " 1771.9030232292373,\n",
              " 2211.5821428535833,\n",
              " 1843.0755183984647,\n",
              " 1874.46028786283,\n",
              " 2059.6975288607623,\n",
              " 1748.450782698172,\n",
              " 1700.4185146427299,\n",
              " 2255.0708828259267,\n",
              " 1729.787458804907,\n",
              " 1767.3960974014838,\n",
              " 2199.238225983847,\n",
              " 1880.3133824207166,\n",
              " 1765.82458598941,\n",
              " ...]"
            ]
          },
          "metadata": {
            "tags": []
          },
          "execution_count": 87
        }
      ]
    },
    {
      "cell_type": "code",
      "metadata": {
        "id": "p0lCpwNlnRLP"
      },
      "source": [
        "data[\"BMR\"] = bmr"
      ],
      "execution_count": null,
      "outputs": []
    },
    {
      "cell_type": "code",
      "metadata": {
        "colab": {
          "base_uri": "https://localhost:8080/",
          "height": 195
        },
        "id": "lhdSDcIqnc2h",
        "outputId": "d04a0706-158f-488f-d49e-c646ad92fd5f"
      },
      "source": [
        "data.head()"
      ],
      "execution_count": null,
      "outputs": [
        {
          "output_type": "execute_result",
          "data": {
            "text/html": [
              "<div>\n",
              "<style scoped>\n",
              "    .dataframe tbody tr th:only-of-type {\n",
              "        vertical-align: middle;\n",
              "    }\n",
              "\n",
              "    .dataframe tbody tr th {\n",
              "        vertical-align: top;\n",
              "    }\n",
              "\n",
              "    .dataframe thead th {\n",
              "        text-align: right;\n",
              "    }\n",
              "</style>\n",
              "<table border=\"1\" class=\"dataframe\">\n",
              "  <thead>\n",
              "    <tr style=\"text-align: right;\">\n",
              "      <th></th>\n",
              "      <th>Gender</th>\n",
              "      <th>Height</th>\n",
              "      <th>Weight</th>\n",
              "      <th>Age</th>\n",
              "      <th>BMR</th>\n",
              "    </tr>\n",
              "  </thead>\n",
              "  <tbody>\n",
              "    <tr>\n",
              "      <th>0</th>\n",
              "      <td>0</td>\n",
              "      <td>187.571423</td>\n",
              "      <td>109.722200</td>\n",
              "      <td>57</td>\n",
              "      <td>2128.535087</td>\n",
              "    </tr>\n",
              "    <tr>\n",
              "      <th>1</th>\n",
              "      <td>0</td>\n",
              "      <td>174.706036</td>\n",
              "      <td>73.623547</td>\n",
              "      <td>22</td>\n",
              "      <td>1804.238076</td>\n",
              "    </tr>\n",
              "    <tr>\n",
              "      <th>2</th>\n",
              "      <td>0</td>\n",
              "      <td>188.239668</td>\n",
              "      <td>96.498619</td>\n",
              "      <td>53</td>\n",
              "      <td>1977.074069</td>\n",
              "    </tr>\n",
              "    <tr>\n",
              "      <th>3</th>\n",
              "      <td>0</td>\n",
              "      <td>182.196685</td>\n",
              "      <td>99.810610</td>\n",
              "      <td>46</td>\n",
              "      <td>2039.665900</td>\n",
              "    </tr>\n",
              "    <tr>\n",
              "      <th>4</th>\n",
              "      <td>0</td>\n",
              "      <td>177.499761</td>\n",
              "      <td>93.599656</td>\n",
              "      <td>43</td>\n",
              "      <td>1951.031571</td>\n",
              "    </tr>\n",
              "  </tbody>\n",
              "</table>\n",
              "</div>"
            ],
            "text/plain": [
              "  Gender      Height      Weight  Age          BMR\n",
              "0      0  187.571423  109.722200   57  2128.535087\n",
              "1      0  174.706036   73.623547   22  1804.238076\n",
              "2      0  188.239668   96.498619   53  1977.074069\n",
              "3      0  182.196685   99.810610   46  2039.665900\n",
              "4      0  177.499761   93.599656   43  1951.031571"
            ]
          },
          "metadata": {
            "tags": []
          },
          "execution_count": 22
        }
      ]
    },
    {
      "cell_type": "code",
      "metadata": {
        "id": "dfxaFXrundrr"
      },
      "source": [
        "data.to_csv('/content/drive/MyDrive/demo.csv', index=False)"
      ],
      "execution_count": null,
      "outputs": []
    },
    {
      "cell_type": "code",
      "metadata": {
        "colab": {
          "base_uri": "https://localhost:8080/"
        },
        "id": "w2-XZXYdofER",
        "outputId": "cf9d2803-94ad-4d4b-b802-de7d87127484"
      },
      "source": [
        "data.describe"
      ],
      "execution_count": null,
      "outputs": [
        {
          "output_type": "execute_result",
          "data": {
            "text/plain": [
              "<bound method NDFrame.describe of      Gender      Height      Weight  Age          BMR\n",
              "0         0  187.571423  109.722200   57  2128.535087\n",
              "1         0  174.706036   73.623547   22  1804.238076\n",
              "2         0  188.239668   96.498619   53  1977.074069\n",
              "3         0  182.196685   99.810610   46  2039.665900\n",
              "4         0  177.499761   93.599656   43  1951.031571\n",
              "...     ...         ...         ...  ...          ...\n",
              "9995      1  168.078536   62.041846   51  1320.875468\n",
              "9996      1  170.350573   77.505174   17  1631.938536\n",
              "9997      1  162.224700   58.276022   15  1442.369297\n",
              "9998      1  175.346978   74.322989   57  1423.710651\n",
              "9999      1  157.338385   51.550895   55  1181.977218\n",
              "\n",
              "[10000 rows x 5 columns]>"
            ]
          },
          "metadata": {
            "tags": []
          },
          "execution_count": 24
        }
      ]
    },
    {
      "cell_type": "code",
      "metadata": {
        "colab": {
          "base_uri": "https://localhost:8080/",
          "height": 386
        },
        "id": "YOZ6HJZXr-CP",
        "outputId": "4405aa3c-269e-44f9-f8c1-9e16d2dd7e53"
      },
      "source": [
        "sns.displot(data, x=\"Age\")"
      ],
      "execution_count": null,
      "outputs": [
        {
          "output_type": "execute_result",
          "data": {
            "text/plain": [
              "<seaborn.axisgrid.FacetGrid at 0x7f24935341d0>"
            ]
          },
          "metadata": {
            "tags": []
          },
          "execution_count": 25
        },
        {
          "output_type": "display_data",
          "data": {
            "image/png": "[encoded data removed]",
            "text/plain": [
              "<Figure size 360x360 with 1 Axes>"
            ]
          },
          "metadata": {
            "tags": [],
            "needs_background": "light"
          }
        }
      ]
    },
    {
      "cell_type": "code",
      "metadata": {
        "colab": {
          "base_uri": "https://localhost:8080/",
          "height": 507
        },
        "id": "J3A_EWeXR7_r",
        "outputId": "ab67b54a-e5f1-4733-c040-ec0f05ec3a1c"
      },
      "source": [
        "scatter_matrix(data, alpha = 0.3, figsize = (14,8), diagonal = 'kde');"
      ],
      "execution_count": null,
      "outputs": [
        {
          "output_type": "display_data",
          "data": {
            "image/png": "[encoded data removed]",
            "text/plain": [
              "<Figure size 1008x576 with 16 Axes>"
            ]
          },
          "metadata": {
            "tags": [],
            "needs_background": "light"
          }
        }
      ]
    },
    {
      "cell_type": "markdown",
      "metadata": {
        "id": "vlhjzuUigwuS"
      },
      "source": [
        "# **Clustering part**"
      ]
    },
    {
      "cell_type": "code",
      "metadata": {
        "colab": {
          "base_uri": "https://localhost:8080/",
          "height": 196
        },
        "id": "wrPkPOnQYUcj",
        "outputId": "1ba63f16-a9ae-452c-c03a-b2738e84342d"
      },
      "source": [
        "import pandas as pd\n",
        "data = pd.read_csv(\"/content/drive/MyDrive/demo.csv\")\n",
        "data.head()"
      ],
      "execution_count": 1,
      "outputs": [
        {
          "output_type": "execute_result",
          "data": {
            "text/html": [
              "<div>\n",
              "<style scoped>\n",
              "    .dataframe tbody tr th:only-of-type {\n",
              "        vertical-align: middle;\n",
              "    }\n",
              "\n",
              "    .dataframe tbody tr th {\n",
              "        vertical-align: top;\n",
              "    }\n",
              "\n",
              "    .dataframe thead th {\n",
              "        text-align: right;\n",
              "    }\n",
              "</style>\n",
              "<table border=\"1\" class=\"dataframe\">\n",
              "  <thead>\n",
              "    <tr style=\"text-align: right;\">\n",
              "      <th></th>\n",
              "      <th>Gender</th>\n",
              "      <th>Height</th>\n",
              "      <th>Weight</th>\n",
              "      <th>Age</th>\n",
              "      <th>BMR</th>\n",
              "    </tr>\n",
              "  </thead>\n",
              "  <tbody>\n",
              "    <tr>\n",
              "      <th>0</th>\n",
              "      <td>0</td>\n",
              "      <td>187.571423</td>\n",
              "      <td>109.722200</td>\n",
              "      <td>57</td>\n",
              "      <td>2128.535087</td>\n",
              "    </tr>\n",
              "    <tr>\n",
              "      <th>1</th>\n",
              "      <td>0</td>\n",
              "      <td>174.706036</td>\n",
              "      <td>73.623547</td>\n",
              "      <td>22</td>\n",
              "      <td>1804.238076</td>\n",
              "    </tr>\n",
              "    <tr>\n",
              "      <th>2</th>\n",
              "      <td>0</td>\n",
              "      <td>188.239668</td>\n",
              "      <td>96.498619</td>\n",
              "      <td>53</td>\n",
              "      <td>1977.074069</td>\n",
              "    </tr>\n",
              "    <tr>\n",
              "      <th>3</th>\n",
              "      <td>0</td>\n",
              "      <td>182.196685</td>\n",
              "      <td>99.810610</td>\n",
              "      <td>46</td>\n",
              "      <td>2039.665900</td>\n",
              "    </tr>\n",
              "    <tr>\n",
              "      <th>4</th>\n",
              "      <td>0</td>\n",
              "      <td>177.499761</td>\n",
              "      <td>93.599656</td>\n",
              "      <td>43</td>\n",
              "      <td>1951.031571</td>\n",
              "    </tr>\n",
              "  </tbody>\n",
              "</table>\n",
              "</div>"
            ],
            "text/plain": [
              "   Gender      Height      Weight  Age          BMR\n",
              "0       0  187.571423  109.722200   57  2128.535087\n",
              "1       0  174.706036   73.623547   22  1804.238076\n",
              "2       0  188.239668   96.498619   53  1977.074069\n",
              "3       0  182.196685   99.810610   46  2039.665900\n",
              "4       0  177.499761   93.599656   43  1951.031571"
            ]
          },
          "metadata": {
            "tags": []
          },
          "execution_count": 1
        }
      ]
    },
    {
      "cell_type": "code",
      "metadata": {
        "id": "p-FqkpkV8FtX"
      },
      "source": [
        "from sklearn.cluster import KMeans"
      ],
      "execution_count": 2,
      "outputs": []
    },
    {
      "cell_type": "code",
      "metadata": {
        "id": "j6B1ZfzU-1Ri"
      },
      "source": [
        "from sklearn.preprocessing import StandardScaler"
      ],
      "execution_count": 3,
      "outputs": []
    },
    {
      "cell_type": "code",
      "metadata": {
        "colab": {
          "base_uri": "https://localhost:8080/"
        },
        "id": "0NG2PlKx8d8b",
        "outputId": "82d6c068-eb95-4c67-d16c-407447cdac2a"
      },
      "source": [
        "#lets consider one feature which is BMR\n",
        "features = [\"Weight\",\"Height\",\"BMR\"]\n",
        "\n",
        "datafe = data[features].copy()\n",
        "datafe = datafe.values\n",
        "print(datafe)"
      ],
      "execution_count": 4,
      "outputs": [
        {
          "output_type": "stream",
          "text": [
            "[[ 109.72220048  187.57142322 2128.53508701]\n",
            " [  73.62354737  174.70603628 1804.23807576]\n",
            " [  96.49861905  188.2396677  1977.07406941]\n",
            " ...\n",
            " [  58.27602231  162.22470022 1442.36929676]\n",
            " [  74.32298891  175.34697755 1423.7106514 ]\n",
            " [  51.5508948   157.33838453 1181.97721836]]\n"
          ],
          "name": "stdout"
        }
      ]
    },
    {
      "cell_type": "code",
      "metadata": {
        "colab": {
          "base_uri": "https://localhost:8080/"
        },
        "id": "Tm1TK8ofBeVF",
        "outputId": "794db852-3d07-4be4-bbe4-e176be54eb06"
      },
      "source": [
        "scaler = StandardScaler()\n",
        "datafe = scaler.fit_transform(datafe.reshape(-1,1))\n",
        "print(datafe)"
      ],
      "execution_count": 5,
      "outputs": [
        {
          "output_type": "stream",
          "text": [
            "[[-0.70262067]\n",
            " [-0.59517354]\n",
            " [ 2.0837354 ]\n",
            " ...\n",
            " [-0.78290843]\n",
            " [-0.63690104]\n",
            " [ 0.77730067]]\n"
          ],
          "name": "stdout"
        }
      ]
    },
    {
      "cell_type": "code",
      "metadata": {
        "id": "RIwHvsDQZ2yk"
      },
      "source": [
        "import numpy as np\n",
        "%matplotlib inline\n",
        "from pandas.plotting import scatter_matrix\n",
        "from numpy import where\n",
        "from sklearn.datasets import make_classification\n",
        "import matplotlib.pyplot as plt"
      ],
      "execution_count": 6,
      "outputs": []
    },
    {
      "cell_type": "code",
      "metadata": {
        "colab": {
          "base_uri": "https://localhost:8080/",
          "height": 407
        },
        "id": "ElrEUMudBpew",
        "outputId": "84561813-ab1e-450a-cced-c52598113873"
      },
      "source": [
        "#elbow method to calculate the inertia\n",
        "%%time\n",
        "n_cluster = range(1,21)\n",
        "kmeans = [KMeans(n_clusters=i).fit(datafe) for i in n_cluster]\n",
        "scores = [kmeans[i].score(datafe) for i in range(len(kmeans))]\n",
        "\n",
        "f = plt.figure(1, figsize=(16,6))\n",
        "plt.plot(scores)\n",
        "_ = plt.xticks(n_cluster)"
      ],
      "execution_count": null,
      "outputs": [
        {
          "output_type": "stream",
          "text": [
            "CPU times: user 6.62 s, sys: 136 ms, total: 6.75 s\n",
            "Wall time: 6.76 s\n"
          ],
          "name": "stdout"
        },
        {
          "output_type": "display_data",
          "data": {
            "image/png": "[encoded data removed]",
            "text/plain": [
              "<Figure size 1152x432 with 1 Axes>"
            ]
          },
          "metadata": {
            "tags": [],
            "needs_background": "light"
          }
        }
      ]
    },
    {
      "cell_type": "code",
      "metadata": {
        "colab": {
          "base_uri": "https://localhost:8080/"
        },
        "id": "NOSgrtcIEE0j",
        "outputId": "6ed93adf-ac3d-4279-8c97-890a4a2399b0"
      },
      "source": [
        "#getting the number of clusters using silhouette score\n",
        "%%time\n",
        "from sklearn.metrics import silhouette_score\n",
        "\n",
        "kmeans = KMeans(n_clusters=6).fit_predict(datafe)\n",
        "print(silhouette_score(datafe, kmeans))"
      ],
      "execution_count": 9,
      "outputs": [
        {
          "output_type": "stream",
          "text": [
            "0.7452350091919305\n",
            "CPU times: user 15.1 s, sys: 518 ms, total: 15.6 s\n",
            "Wall time: 15.6 s\n"
          ],
          "name": "stdout"
        }
      ]
    },
    {
      "cell_type": "code",
      "metadata": {
        "id": "DehSRSn3Krjs"
      },
      "source": [
        "scores = np.array(scores)\n",
        "dif_scores = scores/scores[0]\n",
        "dif_scores = np.diff(dif_scores)\n",
        "n_clusters = np.argwhere(dif_scores < np.quantile(dif_scores, 0.9))[-1][0]"
      ],
      "execution_count": null,
      "outputs": []
    },
    {
      "cell_type": "code",
      "metadata": {
        "colab": {
          "base_uri": "https://localhost:8080/"
        },
        "id": "VVeypSQMMtgC",
        "outputId": "9f77cef5-024c-473a-fe2b-2e605f50cba8"
      },
      "source": [
        "print(n_clusters)"
      ],
      "execution_count": null,
      "outputs": [
        {
          "output_type": "stream",
          "text": [
            "16\n"
          ],
          "name": "stdout"
        }
      ]
    },
    {
      "cell_type": "markdown",
      "metadata": {
        "id": "jatLNRewN7Pr"
      },
      "source": [
        "Checking the first observation"
      ]
    },
    {
      "cell_type": "code",
      "metadata": {
        "colab": {
          "base_uri": "https://localhost:8080/"
        },
        "id": "CqXaGhYwM22h",
        "outputId": "f0bb51d3-9d7f-4fb4-f0e3-99f70c342d7d"
      },
      "source": [
        "preds = KMeans(n_clusters=n_clusters).fit_predict(datafe)\n",
        "print(f\"First observation's cluster: {preds[0]}\")"
      ],
      "execution_count": null,
      "outputs": [
        {
          "output_type": "stream",
          "text": [
            "First observation's cluster: 6\n"
          ],
          "name": "stdout"
        }
      ]
    },
    {
      "cell_type": "code",
      "metadata": {
        "id": "HViFFyAlOQof"
      },
      "source": [
        "df = pd.DataFrame()\n",
        "df[\"clusters\"] = preds"
      ],
      "execution_count": null,
      "outputs": []
    },
    {
      "cell_type": "code",
      "metadata": {
        "colab": {
          "base_uri": "https://localhost:8080/"
        },
        "id": "PMeoVqnPRDNk",
        "outputId": "8560e02b-629e-4dda-d3f6-798f248216cd"
      },
      "source": [
        "df[\"clusters\"].value_counts()"
      ],
      "execution_count": null,
      "outputs": [
        {
          "output_type": "execute_result",
          "data": {
            "text/plain": [
              "7     1037\n",
              "1      992\n",
              "11     862\n",
              "14     830\n",
              "3      742\n",
              "8      675\n",
              "9      648\n",
              "4      635\n",
              "13     633\n",
              "2      588\n",
              "5      565\n",
              "0      531\n",
              "15     487\n",
              "6      364\n",
              "12     256\n",
              "10     155\n",
              "Name: clusters, dtype: int64"
            ]
          },
          "metadata": {
            "tags": []
          },
          "execution_count": 53
        }
      ]
    },
    {
      "cell_type": "code",
      "metadata": {
        "id": "CNroaouvcQzf"
      },
      "source": [
        "kmeans = KMeans(n_clusters=6).fit(datafe)"
      ],
      "execution_count": null,
      "outputs": []
    },
    {
      "cell_type": "code",
      "metadata": {
        "colab": {
          "base_uri": "https://localhost:8080/"
        },
        "id": "O4w2o3-8crbg",
        "outputId": "d9270fe9-8169-4f88-d3c8-10d234a2ccca"
      },
      "source": [
        "kmeans.labels_"
      ],
      "execution_count": null,
      "outputs": [
        {
          "output_type": "execute_result",
          "data": {
            "text/plain": [
              "array([0, 5, 4, ..., 0, 5, 3], dtype=int32)"
            ]
          },
          "metadata": {
            "tags": []
          },
          "execution_count": 20
        }
      ]
    },
    {
      "cell_type": "code",
      "metadata": {
        "id": "d0n-bjs9RNcJ",
        "colab": {
          "base_uri": "https://localhost:8080/",
          "height": 212
        },
        "outputId": "e69b84d7-50c4-4a2e-efc5-3071b278a78e"
      },
      "source": [
        "from sklearn.decomposition import PCA\n",
        "import seaborn as sns\n",
        "pca_df = PCA(2, datafe, kmeans.labels_)\n",
        "sns.scatterplot(x=pca_df.x, y=pca_df.y, hue=pca_df.labels, \n",
        "                palette=\"Set2\")"
      ],
      "execution_count": null,
      "outputs": [
        {
          "output_type": "error",
          "ename": "AttributeError",
          "evalue": "ignored",
          "traceback": [
            "\u001b[0;31m---------------------------------------------------------------------------\u001b[0m",
            "\u001b[0;31mAttributeError\u001b[0m                            Traceback (most recent call last)",
            "\u001b[0;32m<ipython-input-25-c80f7f9546a5>\u001b[0m in \u001b[0;36m<module>\u001b[0;34m()\u001b[0m\n\u001b[1;32m      2\u001b[0m \u001b[0;32mimport\u001b[0m \u001b[0mseaborn\u001b[0m \u001b[0;32mas\u001b[0m \u001b[0msns\u001b[0m\u001b[0;34m\u001b[0m\u001b[0;34m\u001b[0m\u001b[0m\n\u001b[1;32m      3\u001b[0m \u001b[0mpca_df\u001b[0m \u001b[0;34m=\u001b[0m \u001b[0mPCA\u001b[0m\u001b[0;34m(\u001b[0m\u001b[0;36m2\u001b[0m\u001b[0;34m,\u001b[0m \u001b[0mdatafe\u001b[0m\u001b[0;34m,\u001b[0m \u001b[0mkmeans\u001b[0m\u001b[0;34m.\u001b[0m\u001b[0mlabels_\u001b[0m\u001b[0;34m)\u001b[0m\u001b[0;34m\u001b[0m\u001b[0;34m\u001b[0m\u001b[0m\n\u001b[0;32m----> 4\u001b[0;31m sns.scatterplot(x=pca_df.x, y=pca_df.y, hue=pca_df.labels, \n\u001b[0m\u001b[1;32m      5\u001b[0m                 palette=\"Set2\")\n",
            "\u001b[0;31mAttributeError\u001b[0m: 'PCA' object has no attribute 'x'"
          ]
        }
      ]
    },
    {
      "cell_type": "code",
      "metadata": {
        "id": "QXS1NKDJddvy"
      },
      "source": [
        "y_kmeans = kmeans.fit_predict(datafe)"
      ],
      "execution_count": null,
      "outputs": []
    },
    {
      "cell_type": "code",
      "metadata": {
        "id": "-xA91Y1_ejJv"
      },
      "source": [
        "kmeans = KMeans(n_clusters=6, random_state=0)"
      ],
      "execution_count": 10,
      "outputs": []
    },
    {
      "cell_type": "code",
      "metadata": {
        "id": "MY77vB-EjNda"
      },
      "source": [
        "pred = kmeans.fit_predict(datafe)"
      ],
      "execution_count": 14,
      "outputs": []
    },
    {
      "cell_type": "code",
      "metadata": {
        "colab": {
          "base_uri": "https://localhost:8080/"
        },
        "id": "hPUAXAQnjSf5",
        "outputId": "67f1256c-2830-4bbf-b210-620e90ebd5b9"
      },
      "source": [
        "len(pred)"
      ],
      "execution_count": 15,
      "outputs": [
        {
          "output_type": "execute_result",
          "data": {
            "text/plain": [
              "30000"
            ]
          },
          "metadata": {
            "tags": []
          },
          "execution_count": 15
        }
      ]
    },
    {
      "cell_type": "code",
      "metadata": {
        "id": "HijyM9IBpMmU"
      },
      "source": [
        "kmeans = KMeans(n_clusters=6, random_state=0)\n",
        "data['Cluster'] = kmeans.fit_predict(data[[\"Weight\",\"Height\",\"BMR\"]])"
      ],
      "execution_count": 21,
      "outputs": []
    },
    {
      "cell_type": "code",
      "metadata": {
        "colab": {
          "base_uri": "https://localhost:8080/",
          "height": 196
        },
        "id": "CGs4rHAoqHo9",
        "outputId": "f0ec118c-ccd1-43c0-97b4-f3107d8caeb2"
      },
      "source": [
        "data.head()"
      ],
      "execution_count": 22,
      "outputs": [
        {
          "output_type": "execute_result",
          "data": {
            "text/html": [
              "<div>\n",
              "<style scoped>\n",
              "    .dataframe tbody tr th:only-of-type {\n",
              "        vertical-align: middle;\n",
              "    }\n",
              "\n",
              "    .dataframe tbody tr th {\n",
              "        vertical-align: top;\n",
              "    }\n",
              "\n",
              "    .dataframe thead th {\n",
              "        text-align: right;\n",
              "    }\n",
              "</style>\n",
              "<table border=\"1\" class=\"dataframe\">\n",
              "  <thead>\n",
              "    <tr style=\"text-align: right;\">\n",
              "      <th></th>\n",
              "      <th>Gender</th>\n",
              "      <th>Height</th>\n",
              "      <th>Weight</th>\n",
              "      <th>Age</th>\n",
              "      <th>BMR</th>\n",
              "      <th>Cluster</th>\n",
              "    </tr>\n",
              "  </thead>\n",
              "  <tbody>\n",
              "    <tr>\n",
              "      <th>0</th>\n",
              "      <td>0</td>\n",
              "      <td>187.571423</td>\n",
              "      <td>109.722200</td>\n",
              "      <td>57</td>\n",
              "      <td>2128.535087</td>\n",
              "      <td>3</td>\n",
              "    </tr>\n",
              "    <tr>\n",
              "      <th>1</th>\n",
              "      <td>0</td>\n",
              "      <td>174.706036</td>\n",
              "      <td>73.623547</td>\n",
              "      <td>22</td>\n",
              "      <td>1804.238076</td>\n",
              "      <td>5</td>\n",
              "    </tr>\n",
              "    <tr>\n",
              "      <th>2</th>\n",
              "      <td>0</td>\n",
              "      <td>188.239668</td>\n",
              "      <td>96.498619</td>\n",
              "      <td>53</td>\n",
              "      <td>1977.074069</td>\n",
              "      <td>1</td>\n",
              "    </tr>\n",
              "    <tr>\n",
              "      <th>3</th>\n",
              "      <td>0</td>\n",
              "      <td>182.196685</td>\n",
              "      <td>99.810610</td>\n",
              "      <td>46</td>\n",
              "      <td>2039.665900</td>\n",
              "      <td>3</td>\n",
              "    </tr>\n",
              "    <tr>\n",
              "      <th>4</th>\n",
              "      <td>0</td>\n",
              "      <td>177.499761</td>\n",
              "      <td>93.599656</td>\n",
              "      <td>43</td>\n",
              "      <td>1951.031571</td>\n",
              "      <td>1</td>\n",
              "    </tr>\n",
              "  </tbody>\n",
              "</table>\n",
              "</div>"
            ],
            "text/plain": [
              "   Gender      Height      Weight  Age          BMR  Cluster\n",
              "0       0  187.571423  109.722200   57  2128.535087        3\n",
              "1       0  174.706036   73.623547   22  1804.238076        5\n",
              "2       0  188.239668   96.498619   53  1977.074069        1\n",
              "3       0  182.196685   99.810610   46  2039.665900        3\n",
              "4       0  177.499761   93.599656   43  1951.031571        1"
            ]
          },
          "metadata": {
            "tags": []
          },
          "execution_count": 22
        }
      ]
    },
    {
      "cell_type": "code",
      "metadata": {
        "colab": {
          "base_uri": "https://localhost:8080/"
        },
        "id": "kKxLf-YdqItz",
        "outputId": "d42e8c21-026c-4cc0-c9dc-69d8d6b5a3e4"
      },
      "source": [
        "data[\"Cluster\"].unique()"
      ],
      "execution_count": 23,
      "outputs": [
        {
          "output_type": "execute_result",
          "data": {
            "text/plain": [
              "array([3, 5, 1, 0, 4, 2], dtype=int32)"
            ]
          },
          "metadata": {
            "tags": []
          },
          "execution_count": 23
        }
      ]
    },
    {
      "cell_type": "code",
      "metadata": {
        "id": "l_NZ83WcqQv6"
      },
      "source": [
        "# get centroids\n",
        "centroids = kmeans.cluster_centers_\n",
        "cen_x = [i[0] for i in centroids] \n",
        "cen_y = [i[1] for i in centroids]\n",
        "## add to df\n",
        "data['cen_x'] = data.Cluster.map({0:cen_x[0], 1:cen_x[1], 2:cen_x[2]})\n",
        "data['cen_y'] = data.Cluster.map({0:cen_y[0], 1:cen_y[1], 2:cen_y[2]})\n",
        "# define and map colors\n",
        "colors = ['#DF2020', '#81DF20', '#2095DF']\n",
        "data['c'] = data.Cluster.map({0:colors[0], 1:colors[1], 2:colors[2]})\n"
      ],
      "execution_count": 27,
      "outputs": []
    },
    {
      "cell_type": "code",
      "metadata": {
        "colab": {
          "base_uri": "https://localhost:8080/",
          "height": 856
        },
        "id": "xc7IDddsxRPf",
        "outputId": "80b8f2f0-7d1e-404c-f2fc-72cde2294271"
      },
      "source": [
        "import matplotlib.pyplot as plt\n",
        "plt.scatter(data.Height, data.Weight, c=data.c, alpha = 0.6, s=10)"
      ],
      "execution_count": 31,
      "outputs": [
        {
          "output_type": "error",
          "ename": "ValueError",
          "evalue": "ignored",
          "traceback": [
            "\u001b[0;31m---------------------------------------------------------------------------\u001b[0m",
            "\u001b[0;31mValueError\u001b[0m                                Traceback (most recent call last)",
            "\u001b[0;32m/usr/local/lib/python3.7/dist-packages/matplotlib/axes/_axes.py\u001b[0m in \u001b[0;36m_parse_scatter_color_args\u001b[0;34m(c, edgecolors, kwargs, xsize, get_next_color_func)\u001b[0m\n\u001b[1;32m   4238\u001b[0m             \u001b[0;32mtry\u001b[0m\u001b[0;34m:\u001b[0m  \u001b[0;31m# Is 'c' acceptable as PathCollection facecolors?\u001b[0m\u001b[0;34m\u001b[0m\u001b[0;34m\u001b[0m\u001b[0m\n\u001b[0;32m-> 4239\u001b[0;31m                 \u001b[0mcolors\u001b[0m \u001b[0;34m=\u001b[0m \u001b[0mmcolors\u001b[0m\u001b[0;34m.\u001b[0m\u001b[0mto_rgba_array\u001b[0m\u001b[0;34m(\u001b[0m\u001b[0mc\u001b[0m\u001b[0;34m)\u001b[0m\u001b[0;34m\u001b[0m\u001b[0;34m\u001b[0m\u001b[0m\n\u001b[0m\u001b[1;32m   4240\u001b[0m             \u001b[0;32mexcept\u001b[0m \u001b[0mValueError\u001b[0m\u001b[0;34m:\u001b[0m\u001b[0;34m\u001b[0m\u001b[0;34m\u001b[0m\u001b[0m\n",
            "\u001b[0;32m/usr/local/lib/python3.7/dist-packages/matplotlib/colors.py\u001b[0m in \u001b[0;36mto_rgba_array\u001b[0;34m(c, alpha)\u001b[0m\n\u001b[1;32m    339\u001b[0m     \u001b[0;32melse\u001b[0m\u001b[0;34m:\u001b[0m\u001b[0;34m\u001b[0m\u001b[0;34m\u001b[0m\u001b[0m\n\u001b[0;32m--> 340\u001b[0;31m         \u001b[0;32mreturn\u001b[0m \u001b[0mnp\u001b[0m\u001b[0;34m.\u001b[0m\u001b[0marray\u001b[0m\u001b[0;34m(\u001b[0m\u001b[0;34m[\u001b[0m\u001b[0mto_rgba\u001b[0m\u001b[0;34m(\u001b[0m\u001b[0mcc\u001b[0m\u001b[0;34m,\u001b[0m \u001b[0malpha\u001b[0m\u001b[0;34m)\u001b[0m \u001b[0;32mfor\u001b[0m \u001b[0mcc\u001b[0m \u001b[0;32min\u001b[0m \u001b[0mc\u001b[0m\u001b[0;34m]\u001b[0m\u001b[0;34m)\u001b[0m\u001b[0;34m\u001b[0m\u001b[0;34m\u001b[0m\u001b[0m\n\u001b[0m\u001b[1;32m    341\u001b[0m \u001b[0;34m\u001b[0m\u001b[0m\n",
            "\u001b[0;32m/usr/local/lib/python3.7/dist-packages/matplotlib/colors.py\u001b[0m in \u001b[0;36m<listcomp>\u001b[0;34m(.0)\u001b[0m\n\u001b[1;32m    339\u001b[0m     \u001b[0;32melse\u001b[0m\u001b[0;34m:\u001b[0m\u001b[0;34m\u001b[0m\u001b[0;34m\u001b[0m\u001b[0m\n\u001b[0;32m--> 340\u001b[0;31m         \u001b[0;32mreturn\u001b[0m \u001b[0mnp\u001b[0m\u001b[0;34m.\u001b[0m\u001b[0marray\u001b[0m\u001b[0;34m(\u001b[0m\u001b[0;34m[\u001b[0m\u001b[0mto_rgba\u001b[0m\u001b[0;34m(\u001b[0m\u001b[0mcc\u001b[0m\u001b[0;34m,\u001b[0m \u001b[0malpha\u001b[0m\u001b[0;34m)\u001b[0m \u001b[0;32mfor\u001b[0m \u001b[0mcc\u001b[0m \u001b[0;32min\u001b[0m \u001b[0mc\u001b[0m\u001b[0;34m]\u001b[0m\u001b[0;34m)\u001b[0m\u001b[0;34m\u001b[0m\u001b[0;34m\u001b[0m\u001b[0m\n\u001b[0m\u001b[1;32m    341\u001b[0m \u001b[0;34m\u001b[0m\u001b[0m\n",
            "\u001b[0;32m/usr/local/lib/python3.7/dist-packages/matplotlib/colors.py\u001b[0m in \u001b[0;36mto_rgba\u001b[0;34m(c, alpha)\u001b[0m\n\u001b[1;32m    184\u001b[0m     \u001b[0;32mif\u001b[0m \u001b[0mrgba\u001b[0m \u001b[0;32mis\u001b[0m \u001b[0;32mNone\u001b[0m\u001b[0;34m:\u001b[0m  \u001b[0;31m# Suppress exception chaining of cache lookup failure.\u001b[0m\u001b[0;34m\u001b[0m\u001b[0;34m\u001b[0m\u001b[0m\n\u001b[0;32m--> 185\u001b[0;31m         \u001b[0mrgba\u001b[0m \u001b[0;34m=\u001b[0m \u001b[0m_to_rgba_no_colorcycle\u001b[0m\u001b[0;34m(\u001b[0m\u001b[0mc\u001b[0m\u001b[0;34m,\u001b[0m \u001b[0malpha\u001b[0m\u001b[0;34m)\u001b[0m\u001b[0;34m\u001b[0m\u001b[0;34m\u001b[0m\u001b[0m\n\u001b[0m\u001b[1;32m    186\u001b[0m         \u001b[0;32mtry\u001b[0m\u001b[0;34m:\u001b[0m\u001b[0;34m\u001b[0m\u001b[0;34m\u001b[0m\u001b[0m\n",
            "\u001b[0;32m/usr/local/lib/python3.7/dist-packages/matplotlib/colors.py\u001b[0m in \u001b[0;36m_to_rgba_no_colorcycle\u001b[0;34m(c, alpha)\u001b[0m\n\u001b[1;32m    267\u001b[0m         \u001b[0;31m# Test dimensionality to reject single floats.\u001b[0m\u001b[0;34m\u001b[0m\u001b[0;34m\u001b[0m\u001b[0;34m\u001b[0m\u001b[0m\n\u001b[0;32m--> 268\u001b[0;31m         \u001b[0;32mraise\u001b[0m \u001b[0mValueError\u001b[0m\u001b[0;34m(\u001b[0m\u001b[0;34mf\"Invalid RGBA argument: {orig_c!r}\"\u001b[0m\u001b[0;34m)\u001b[0m\u001b[0;34m\u001b[0m\u001b[0;34m\u001b[0m\u001b[0m\n\u001b[0m\u001b[1;32m    269\u001b[0m     \u001b[0;31m# Return a tuple to prevent the cached value from being modified.\u001b[0m\u001b[0;34m\u001b[0m\u001b[0;34m\u001b[0m\u001b[0;34m\u001b[0m\u001b[0m\n",
            "\u001b[0;31mValueError\u001b[0m: Invalid RGBA argument: nan",
            "\nDuring handling of the above exception, another exception occurred:\n",
            "\u001b[0;31mValueError\u001b[0m                                Traceback (most recent call last)",
            "\u001b[0;32m<ipython-input-31-0968a406a2de>\u001b[0m in \u001b[0;36m<module>\u001b[0;34m()\u001b[0m\n\u001b[1;32m      1\u001b[0m \u001b[0;32mimport\u001b[0m \u001b[0mmatplotlib\u001b[0m\u001b[0;34m.\u001b[0m\u001b[0mpyplot\u001b[0m \u001b[0;32mas\u001b[0m \u001b[0mplt\u001b[0m\u001b[0;34m\u001b[0m\u001b[0;34m\u001b[0m\u001b[0m\n\u001b[0;32m----> 2\u001b[0;31m \u001b[0mplt\u001b[0m\u001b[0;34m.\u001b[0m\u001b[0mscatter\u001b[0m\u001b[0;34m(\u001b[0m\u001b[0mdata\u001b[0m\u001b[0;34m.\u001b[0m\u001b[0mHeight\u001b[0m\u001b[0;34m,\u001b[0m \u001b[0mdata\u001b[0m\u001b[0;34m.\u001b[0m\u001b[0mWeight\u001b[0m\u001b[0;34m,\u001b[0m \u001b[0mc\u001b[0m\u001b[0;34m=\u001b[0m\u001b[0mdata\u001b[0m\u001b[0;34m.\u001b[0m\u001b[0mc\u001b[0m\u001b[0;34m,\u001b[0m \u001b[0malpha\u001b[0m \u001b[0;34m=\u001b[0m \u001b[0;36m0.6\u001b[0m\u001b[0;34m,\u001b[0m \u001b[0ms\u001b[0m\u001b[0;34m=\u001b[0m\u001b[0;36m10\u001b[0m\u001b[0;34m)\u001b[0m\u001b[0;34m\u001b[0m\u001b[0;34m\u001b[0m\u001b[0m\n\u001b[0m",
            "\u001b[0;32m/usr/local/lib/python3.7/dist-packages/matplotlib/pyplot.py\u001b[0m in \u001b[0;36mscatter\u001b[0;34m(x, y, s, c, marker, cmap, norm, vmin, vmax, alpha, linewidths, verts, edgecolors, plotnonfinite, data, **kwargs)\u001b[0m\n\u001b[1;32m   2814\u001b[0m         \u001b[0mverts\u001b[0m\u001b[0;34m=\u001b[0m\u001b[0mverts\u001b[0m\u001b[0;34m,\u001b[0m \u001b[0medgecolors\u001b[0m\u001b[0;34m=\u001b[0m\u001b[0medgecolors\u001b[0m\u001b[0;34m,\u001b[0m\u001b[0;34m\u001b[0m\u001b[0;34m\u001b[0m\u001b[0m\n\u001b[1;32m   2815\u001b[0m         plotnonfinite=plotnonfinite, **({\"data\": data} if data is not\n\u001b[0;32m-> 2816\u001b[0;31m         None else {}), **kwargs)\n\u001b[0m\u001b[1;32m   2817\u001b[0m     \u001b[0msci\u001b[0m\u001b[0;34m(\u001b[0m\u001b[0m__ret\u001b[0m\u001b[0;34m)\u001b[0m\u001b[0;34m\u001b[0m\u001b[0;34m\u001b[0m\u001b[0m\n\u001b[1;32m   2818\u001b[0m     \u001b[0;32mreturn\u001b[0m \u001b[0m__ret\u001b[0m\u001b[0;34m\u001b[0m\u001b[0;34m\u001b[0m\u001b[0m\n",
            "\u001b[0;32m/usr/local/lib/python3.7/dist-packages/matplotlib/__init__.py\u001b[0m in \u001b[0;36minner\u001b[0;34m(ax, data, *args, **kwargs)\u001b[0m\n\u001b[1;32m   1563\u001b[0m     \u001b[0;32mdef\u001b[0m \u001b[0minner\u001b[0m\u001b[0;34m(\u001b[0m\u001b[0max\u001b[0m\u001b[0;34m,\u001b[0m \u001b[0;34m*\u001b[0m\u001b[0margs\u001b[0m\u001b[0;34m,\u001b[0m \u001b[0mdata\u001b[0m\u001b[0;34m=\u001b[0m\u001b[0;32mNone\u001b[0m\u001b[0;34m,\u001b[0m \u001b[0;34m**\u001b[0m\u001b[0mkwargs\u001b[0m\u001b[0;34m)\u001b[0m\u001b[0;34m:\u001b[0m\u001b[0;34m\u001b[0m\u001b[0;34m\u001b[0m\u001b[0m\n\u001b[1;32m   1564\u001b[0m         \u001b[0;32mif\u001b[0m \u001b[0mdata\u001b[0m \u001b[0;32mis\u001b[0m \u001b[0;32mNone\u001b[0m\u001b[0;34m:\u001b[0m\u001b[0;34m\u001b[0m\u001b[0;34m\u001b[0m\u001b[0m\n\u001b[0;32m-> 1565\u001b[0;31m             \u001b[0;32mreturn\u001b[0m \u001b[0mfunc\u001b[0m\u001b[0;34m(\u001b[0m\u001b[0max\u001b[0m\u001b[0;34m,\u001b[0m \u001b[0;34m*\u001b[0m\u001b[0mmap\u001b[0m\u001b[0;34m(\u001b[0m\u001b[0msanitize_sequence\u001b[0m\u001b[0;34m,\u001b[0m \u001b[0margs\u001b[0m\u001b[0;34m)\u001b[0m\u001b[0;34m,\u001b[0m \u001b[0;34m**\u001b[0m\u001b[0mkwargs\u001b[0m\u001b[0;34m)\u001b[0m\u001b[0;34m\u001b[0m\u001b[0;34m\u001b[0m\u001b[0m\n\u001b[0m\u001b[1;32m   1566\u001b[0m \u001b[0;34m\u001b[0m\u001b[0m\n\u001b[1;32m   1567\u001b[0m         \u001b[0mbound\u001b[0m \u001b[0;34m=\u001b[0m \u001b[0mnew_sig\u001b[0m\u001b[0;34m.\u001b[0m\u001b[0mbind\u001b[0m\u001b[0;34m(\u001b[0m\u001b[0max\u001b[0m\u001b[0;34m,\u001b[0m \u001b[0;34m*\u001b[0m\u001b[0margs\u001b[0m\u001b[0;34m,\u001b[0m \u001b[0;34m**\u001b[0m\u001b[0mkwargs\u001b[0m\u001b[0;34m)\u001b[0m\u001b[0;34m\u001b[0m\u001b[0;34m\u001b[0m\u001b[0m\n",
            "\u001b[0;32m/usr/local/lib/python3.7/dist-packages/matplotlib/cbook/deprecation.py\u001b[0m in \u001b[0;36mwrapper\u001b[0;34m(*args, **kwargs)\u001b[0m\n\u001b[1;32m    356\u001b[0m                 \u001b[0;34mf\"%(removal)s.  If any parameter follows {name!r}, they \"\u001b[0m\u001b[0;34m\u001b[0m\u001b[0;34m\u001b[0m\u001b[0m\n\u001b[1;32m    357\u001b[0m                 f\"should be pass as keyword, not positionally.\")\n\u001b[0;32m--> 358\u001b[0;31m         \u001b[0;32mreturn\u001b[0m \u001b[0mfunc\u001b[0m\u001b[0;34m(\u001b[0m\u001b[0;34m*\u001b[0m\u001b[0margs\u001b[0m\u001b[0;34m,\u001b[0m \u001b[0;34m**\u001b[0m\u001b[0mkwargs\u001b[0m\u001b[0;34m)\u001b[0m\u001b[0;34m\u001b[0m\u001b[0;34m\u001b[0m\u001b[0m\n\u001b[0m\u001b[1;32m    359\u001b[0m \u001b[0;34m\u001b[0m\u001b[0m\n\u001b[1;32m    360\u001b[0m     \u001b[0;32mreturn\u001b[0m \u001b[0mwrapper\u001b[0m\u001b[0;34m\u001b[0m\u001b[0;34m\u001b[0m\u001b[0m\n",
            "\u001b[0;32m/usr/local/lib/python3.7/dist-packages/matplotlib/axes/_axes.py\u001b[0m in \u001b[0;36mscatter\u001b[0;34m(self, x, y, s, c, marker, cmap, norm, vmin, vmax, alpha, linewidths, verts, edgecolors, plotnonfinite, **kwargs)\u001b[0m\n\u001b[1;32m   4401\u001b[0m             self._parse_scatter_color_args(\n\u001b[1;32m   4402\u001b[0m                 \u001b[0mc\u001b[0m\u001b[0;34m,\u001b[0m \u001b[0medgecolors\u001b[0m\u001b[0;34m,\u001b[0m \u001b[0mkwargs\u001b[0m\u001b[0;34m,\u001b[0m \u001b[0mx\u001b[0m\u001b[0;34m.\u001b[0m\u001b[0msize\u001b[0m\u001b[0;34m,\u001b[0m\u001b[0;34m\u001b[0m\u001b[0;34m\u001b[0m\u001b[0m\n\u001b[0;32m-> 4403\u001b[0;31m                 get_next_color_func=self._get_patches_for_fill.get_next_color)\n\u001b[0m\u001b[1;32m   4404\u001b[0m \u001b[0;34m\u001b[0m\u001b[0m\n\u001b[1;32m   4405\u001b[0m         \u001b[0;32mif\u001b[0m \u001b[0mplotnonfinite\u001b[0m \u001b[0;32mand\u001b[0m \u001b[0mcolors\u001b[0m \u001b[0;32mis\u001b[0m \u001b[0;32mNone\u001b[0m\u001b[0;34m:\u001b[0m\u001b[0;34m\u001b[0m\u001b[0;34m\u001b[0m\u001b[0m\n",
            "\u001b[0;32m/usr/local/lib/python3.7/dist-packages/matplotlib/axes/_axes.py\u001b[0m in \u001b[0;36m_parse_scatter_color_args\u001b[0;34m(c, edgecolors, kwargs, xsize, get_next_color_func)\u001b[0m\n\u001b[1;32m   4244\u001b[0m                 \u001b[0;31m# severe failure => one may appreciate a verbose feedback.\u001b[0m\u001b[0;34m\u001b[0m\u001b[0;34m\u001b[0m\u001b[0;34m\u001b[0m\u001b[0m\n\u001b[1;32m   4245\u001b[0m                 raise ValueError(\n\u001b[0;32m-> 4246\u001b[0;31m                     \u001b[0;34mf\"'c' argument must be a color, a sequence of colors, or \"\u001b[0m\u001b[0;34m\u001b[0m\u001b[0;34m\u001b[0m\u001b[0m\n\u001b[0m\u001b[1;32m   4247\u001b[0m                     f\"a sequence of numbers, not {c}\")\n\u001b[1;32m   4248\u001b[0m             \u001b[0;32melse\u001b[0m\u001b[0;34m:\u001b[0m\u001b[0;34m\u001b[0m\u001b[0;34m\u001b[0m\u001b[0m\n",
            "\u001b[0;31mValueError\u001b[0m: 'c' argument must be a color, a sequence of colors, or a sequence of numbers, not 0           NaN\n1           NaN\n2       #81DF20\n3           NaN\n4       #81DF20\n         ...   \n9995        NaN\n9996    #DF2020\n9997        NaN\n9998        NaN\n9999    #2095DF\nName: c, Length: 10000, dtype: object"
          ]
        },
        {
          "output_type": "display_data",
          "data": {
            "image/png": "[encoded data removed]",
            "text/plain": [
              "<Figure size 432x288 with 1 Axes>"
            ]
          },
          "metadata": {
            "tags": [],
            "needs_background": "light"
          }
        }
      ]
    },
    {
      "cell_type": "code",
      "metadata": {
        "id": "86cc372GxeiJ"
      },
      "source": [
        ""
      ],
      "execution_count": null,
      "outputs": []
    }
  ]
}